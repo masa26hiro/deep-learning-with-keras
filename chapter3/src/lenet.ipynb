{
 "cells": [
  {
   "cell_type": "code",
   "execution_count": 1,
   "metadata": {},
   "outputs": [
    {
     "name": "stderr",
     "output_type": "stream",
     "text": [
      "Using TensorFlow backend.\n"
     ]
    }
   ],
   "source": [
    "import os\n",
    "import keras\n",
    "from keras.models import Sequential\n",
    "from keras.layers.convolutional import Conv2D\n",
    "from keras.layers.convolutional import MaxPooling2D\n",
    "from keras.layers.core import Activation\n",
    "from keras.layers.core import Flatten\n",
    "from keras.layers.core import Dense\n",
    "from keras.datasets import mnist\n",
    "from keras.optimizers import Adam\n",
    "from keras.callbacks import TensorBoard\n",
    "\n",
    "import matplotlib.pyplot as plt\n",
    "import seaborn as sns\n"
   ]
  },
  {
   "cell_type": "code",
   "execution_count": 2,
   "metadata": {},
   "outputs": [],
   "source": [
    "def lenet(input_shape, num_classes):\n",
    "    model = Sequential()\n",
    "\n",
    "    # extract image features by convolution and max pooling layers\n",
    "    model.add(Conv2D(\n",
    "        20, kernel_size=5, padding=\"same\",\n",
    "        input_shape=input_shape, activation=\"relu\"\n",
    "        ))\n",
    "    # 20 : フィルターを20個使用\n",
    "    # kernel_size=5 : 5 * 5のフィルター\n",
    "    # padding=\"same\" : 出力する特徴マップのサイズは入力データと同じサイズになるように自動でpaddingが設定される\n",
    "    # activation=\"relu\" : 使用する活性化関数はReLU\n",
    "    # MNISTの場合出力サイズは　28 * 28 * 20\n",
    "    \n",
    "    model.add(MaxPooling2D(pool_size=(2, 2)))\n",
    "    # 出力サイズは 14 * 14 * 20\n",
    "    \n",
    "    model.add(Conv2D(50, kernel_size=5, padding=\"same\", activation=\"relu\"))\n",
    "    # 出力サイズは　14 * 14 * 50\n",
    "    \n",
    "    model.add(MaxPooling2D(pool_size=(2, 2)))\n",
    "    # 出力サイズは　7 * 7 * 50\n",
    "    \n",
    "    # classify the class by fully-connected layers\n",
    "    model.add(Flatten())\n",
    "    # 特徴マップをベクトルに変換\n",
    "    \n",
    "    model.add(Dense(500, activation=\"relu\"))\n",
    "    model.add(Dense(num_classes))\n",
    "    model.add(Activation(\"softmax\"))\n",
    "    return model"
   ]
  },
  {
   "cell_type": "code",
   "execution_count": 3,
   "metadata": {},
   "outputs": [],
   "source": [
    "class MNISTDataset():\n",
    "\n",
    "    def __init__(self):\n",
    "        self.image_shape = (28, 28, 1)  # image is 28x28x1 (grayscale)\n",
    "        self.num_classes = 10\n",
    "\n",
    "    def get_batch(self):\n",
    "        (x_train, y_train), (x_test, y_test) = mnist.load_data()\n",
    "\n",
    "        x_train, x_test = [self.preprocess(d) for d in [x_train, x_test]]\n",
    "        y_train, y_test = [self.preprocess(d, label_data=True) for d in\n",
    "                           [y_train, y_test]]\n",
    "\n",
    "        return x_train, y_train, x_test, y_test\n",
    "    \n",
    "    def preprocess(self, data, label_data=False):\n",
    "        if label_data:\n",
    "            # convert class vectors to binary class matrices\n",
    "            data = keras.utils.to_categorical(data, self.num_classes)\n",
    "        else:\n",
    "            data = data.astype(\"float32\")\n",
    "            data /= 255  # convert the value to 0~1 scale\n",
    "            shape = (data.shape[0],) + self.image_shape  # add dataset length\n",
    "            data = data.reshape(shape)\n",
    "\n",
    "        return data\n",
    "    "
   ]
  },
  {
   "cell_type": "code",
   "execution_count": 4,
   "metadata": {},
   "outputs": [],
   "source": [
    "class Trainer():\n",
    "\n",
    "    def __init__(self, model, loss, optimizer):\n",
    "        self._target = model\n",
    "        self._target.compile(\n",
    "            loss=loss, optimizer=optimizer, metrics=[\"accuracy\"]\n",
    "            )\n",
    "        self.verbose = 1\n",
    "        logdir = \"logdir_lenet\"\n",
    "        self.log_dir = os.path.join(os.path.dirname('__file__'), logdir)\n",
    "\n",
    "    def train(self, x_train, y_train, batch_size, epochs, validation_split):\n",
    "        if os.path.exists(self.log_dir):\n",
    "            import shutil\n",
    "            shutil.rmtree(self.log_dir)  # remove previous execution\n",
    "        os.mkdir(self.log_dir)\n",
    "\n",
    "        self._target.fit(\n",
    "            x_train, y_train,\n",
    "            batch_size=batch_size, epochs=epochs,\n",
    "            validation_split=validation_split,\n",
    "            callbacks=[TensorBoard(log_dir=self.log_dir)],\n",
    "            verbose=self.verbose\n",
    "        )\n"
   ]
  },
  {
   "cell_type": "code",
   "execution_count": 5,
   "metadata": {},
   "outputs": [],
   "source": [
    "#フィルターの可視化をする関数\n",
    "def plot_conv_weights(filters):\n",
    "    filter_num = filters.shape[3]\n",
    "    \n",
    "    for i in range(filter_num):\n",
    "        plt.subplot(filter_num/6 + 1, 6, i+1)\n",
    "        plt.xticks([])\n",
    "        plt.yticks([])\n",
    "        plt.xlabel(f'filter {i}')\n",
    "        plt.imshow(filters[:, :, 0, i])\n",
    "        plt.gray()"
   ]
  },
  {
   "cell_type": "code",
   "execution_count": 6,
   "metadata": {},
   "outputs": [
    {
     "data": {
      "image/png": "[encoded data removed]",
      "text/plain": [
       "<Figure size 432x288 with 20 Axes>"
      ]
     },
     "metadata": {},
     "output_type": "display_data"
    }
   ],
   "source": [
    "dataset = MNISTDataset()\n",
    "\n",
    "# make model\n",
    "model = lenet(dataset.image_shape, dataset.num_classes)\n",
    "plot_conv_weights(model.layers[0].get_weights()[0])\n"
   ]
  },
  {
   "cell_type": "code",
   "execution_count": 7,
   "metadata": {},
   "outputs": [
    {
     "name": "stdout",
     "output_type": "stream",
     "text": [
      "Train on 48000 samples, validate on 12000 samples\n",
      "Epoch 1/12\n",
      "48000/48000 [==============================] - 5s 103us/step - loss: 0.1807 - accuracy: 0.9456 - val_loss: 0.0594 - val_accuracy: 0.9815\n",
      "Epoch 2/12\n",
      "48000/48000 [==============================] - 3s 71us/step - loss: 0.0476 - accuracy: 0.9853 - val_loss: 0.0457 - val_accuracy: 0.9869\n",
      "Epoch 3/12\n",
      "48000/48000 [==============================] - 3s 71us/step - loss: 0.0305 - accuracy: 0.9906 - val_loss: 0.0356 - val_accuracy: 0.9891\n",
      "Epoch 4/12\n",
      "48000/48000 [==============================] - 3s 71us/step - loss: 0.0237 - accuracy: 0.9924 - val_loss: 0.0393 - val_accuracy: 0.9886\n",
      "Epoch 5/12\n",
      "48000/48000 [==============================] - 3s 71us/step - loss: 0.0166 - accuracy: 0.9941 - val_loss: 0.0365 - val_accuracy: 0.9902\n",
      "Epoch 6/12\n",
      "48000/48000 [==============================] - 3s 71us/step - loss: 0.0145 - accuracy: 0.9952 - val_loss: 0.0365 - val_accuracy: 0.9902\n",
      "Epoch 7/12\n",
      "48000/48000 [==============================] - 3s 71us/step - loss: 0.0098 - accuracy: 0.9967 - val_loss: 0.0345 - val_accuracy: 0.9904\n",
      "Epoch 8/12\n",
      "48000/48000 [==============================] - 3s 71us/step - loss: 0.0099 - accuracy: 0.9969 - val_loss: 0.0445 - val_accuracy: 0.9885\n",
      "Epoch 9/12\n",
      "48000/48000 [==============================] - 3s 72us/step - loss: 0.0073 - accuracy: 0.9977 - val_loss: 0.0418 - val_accuracy: 0.9890\n",
      "Epoch 10/12\n",
      "48000/48000 [==============================] - 3s 71us/step - loss: 0.0074 - accuracy: 0.9974 - val_loss: 0.0425 - val_accuracy: 0.9899\n",
      "Epoch 11/12\n",
      "48000/48000 [==============================] - 3s 72us/step - loss: 0.0055 - accuracy: 0.9983 - val_loss: 0.0442 - val_accuracy: 0.9900\n",
      "Epoch 12/12\n",
      "48000/48000 [==============================] - 3s 72us/step - loss: 0.0056 - accuracy: 0.9980 - val_loss: 0.0443 - val_accuracy: 0.9901\n",
      "Test loss: 0.04210071480286065\n",
      "Test accuracy: 0.9894000291824341\n"
     ]
    }
   ],
   "source": [
    "# train the model\n",
    "x_train, y_train, x_test, y_test = dataset.get_batch()\n",
    "trainer = Trainer(model, loss=\"categorical_crossentropy\", optimizer=Adam())\n",
    "trainer.train(\n",
    "    x_train, y_train, batch_size=128, epochs=12, validation_split=0.2\n",
    "    )\n",
    "\n",
    "# show result\n",
    "score = model.evaluate(x_test, y_test, verbose=0)\n",
    "print(\"Test loss:\", score[0])\n",
    "print(\"Test accuracy:\", score[1])"
   ]
  },
  {
   "cell_type": "code",
   "execution_count": 8,
   "metadata": {},
   "outputs": [
    {
     "data": {
      "image/png": "[encoded data removed]",
      "text/plain": [
       "<Figure size 432x288 with 20 Axes>"
      ]
     },
     "metadata": {},
     "output_type": "display_data"
    }
   ],
   "source": [
    "plot_conv_weights(model.layers[0].get_weights()[0])"
   ]
  },
  {
   "cell_type": "code",
   "execution_count": null,
   "metadata": {},
   "outputs": [],
   "source": []
  }
 ],
 "metadata": {
  "kernelspec": {
   "display_name": "Python 3",
   "language": "python",
   "name": "python3"
  },
  "language_info": {
   "codemirror_mode": {
    "name": "ipython",
    "version": 3
   },
   "file_extension": ".py",
   "mimetype": "text/x-python",
   "name": "python",
   "nbconvert_exporter": "python",
   "pygments_lexer": "ipython3",
   "version": "3.7.3"
  }
 },
 "nbformat": 4,
 "nbformat_minor": 2
}
