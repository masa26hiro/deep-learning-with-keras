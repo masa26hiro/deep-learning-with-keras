{
 "cells": [
  {
   "cell_type": "code",
   "execution_count": 1,
   "metadata": {},
   "outputs": [
    {
     "name": "stderr",
     "output_type": "stream",
     "text": [
      "Using TensorFlow backend.\n"
     ]
    }
   ],
   "source": [
    "# -*- coding: utf-8 -*-\n",
    "from __future__ import print_function\n",
    "\n",
    "from keras.layers import Dense, Activation, SimpleRNN\n",
    "from keras.models import Sequential\n",
    "import numpy as np\n",
    "import codecs"
   ]
  },
  {
   "cell_type": "code",
   "execution_count": 2,
   "metadata": {},
   "outputs": [],
   "source": [
    "INPUT_FILE = \"./data/11-0.txt\"\n",
    "with codecs.open(INPUT_FILE, \"r\", encoding=\"utf-8\") as f:\n",
    "    lines = [line.strip().lower() for line in f\n",
    "             if len(line) != 0]\n",
    "    text = \" \".join(lines)"
   ]
  },
  {
   "cell_type": "code",
   "execution_count": 3,
   "metadata": {},
   "outputs": [],
   "source": [
    "chars = set(text)#語彙数60?\n",
    "nb_chars = len(chars)\n",
    "char2index = dict((c, i) for i, c in enumerate(chars))\n",
    "index2char = dict((i, c) for i, c in enumerate(chars))"
   ]
  },
  {
   "cell_type": "code",
   "execution_count": 4,
   "metadata": {},
   "outputs": [
    {
     "name": "stdout",
     "output_type": "stream",
     "text": [
      "Creating input and label text...\n"
     ]
    }
   ],
   "source": [
    "print(\"Creating input and label text...\")\n",
    "SEQLEN = 10\n",
    "STEP = 1\n",
    "\n",
    "input_chars = []\n",
    "label_chars = []\n",
    "for i in range(0, len(text) - SEQLEN, STEP):\n",
    "    input_chars.append(text[i:i + SEQLEN])\n",
    "    label_chars.append(text[i + SEQLEN])"
   ]
  },
  {
   "cell_type": "code",
   "execution_count": 5,
   "metadata": {},
   "outputs": [
    {
     "name": "stdout",
     "output_type": "stream",
     "text": [
      "Vectorizing input and label text...\n"
     ]
    }
   ],
   "source": [
    "print(\"Vectorizing input and label text...\")\n",
    "X = np.zeros((len(input_chars), SEQLEN, nb_chars), dtype=np.bool)\n",
    "y = np.zeros((len(input_chars), nb_chars), dtype=np.bool)\n",
    "for i, input_char in enumerate(input_chars):\n",
    "    for j, ch in enumerate(input_char):\n",
    "        X[i, j, char2index[ch]] = 1\n",
    "    y[i, char2index[label_chars[i]]] = 1"
   ]
  },
  {
   "cell_type": "code",
   "execution_count": 6,
   "metadata": {},
   "outputs": [],
   "source": [
    "HIDDEN_SIZE = 128\n",
    "BATCH_SIZE = 128\n",
    "NUM_ITERATIONS = 25\n",
    "NUM_EPOCHS_PER_ITERATION = 1\n",
    "NUM_PREDS_PER_EPOCH = 100"
   ]
  },
  {
   "cell_type": "code",
   "execution_count": 7,
   "metadata": {},
   "outputs": [],
   "source": [
    "model = Sequential()\n",
    "model.add(SimpleRNN(HIDDEN_SIZE, return_sequences=False,\n",
    "                    input_shape=(SEQLEN, nb_chars),\n",
    "                    unroll=True))\n",
    "model.add(Dense(nb_chars))\n",
    "model.add(Activation(\"softmax\"))\n",
    "\n",
    "model.compile(loss=\"categorical_crossentropy\", optimizer=\"rmsprop\")"
   ]
  },
  {
   "cell_type": "code",
   "execution_count": 12,
   "metadata": {},
   "outputs": [
    {
     "data": {
      "image/png": "[encoded data removed]",
      "text/plain": [
       "<IPython.core.display.Image object>"
      ]
     },
     "execution_count": 12,
     "metadata": {},
     "output_type": "execute_result"
    }
   ],
   "source": [
    "from keras.utils import plot_model\n",
    "plot_model(model, to_file='./model.png', show_shapes='t')"
   ]
  },
  {
   "cell_type": "code",
   "execution_count": 8,
   "metadata": {
    "scrolled": false
   },
   "outputs": [
    {
     "name": "stdout",
     "output_type": "stream",
     "text": [
      "==================================================\n",
      "Iteration #: 0\n",
      "Epoch 1/1\n",
      "162739/162739 [==============================] - 5s 29us/step - loss: 2.3754\n",
      "Generating from seed: s of her v\n",
      "s of her ver and the sat in the said the sat in the said the sat in the said the sat in the said the sat in th\n",
      "==================================================\n",
      "Iteration #: 1\n",
      "Epoch 1/1\n",
      "162739/162739 [==============================] - 4s 23us/step - loss: 2.0597\n",
      "Generating from seed: ea--’ [‘i \n",
      "ea--’ [‘i the said the mare the said the mare the said the mare the said the mare the said the mare the said t\n",
      "==================================================\n",
      "Iteration #: 2\n",
      "Epoch 1/1\n",
      "162739/162739 [==============================] - 4s 23us/step - loss: 1.9572\n",
      "Generating from seed: ordered.  \n",
      "ordered.  ‘ing and the waster what in was so the could the could the could the could the could the could the c\n",
      "==================================================\n",
      "Iteration #: 3\n",
      "Epoch 1/1\n",
      "162739/162739 [==============================] - 4s 23us/step - loss: 1.8775\n",
      "Generating from seed: recovered \n",
      "recovered and the dore the gote the with the with the with the with the with the with the with the with the wi\n",
      "==================================================\n",
      "Iteration #: 4\n",
      "Epoch 1/1\n",
      "162739/162739 [==============================] - 4s 23us/step - loss: 1.8118\n",
      "Generating from seed: d yawned o\n",
      "d yawned of the souse she cat the could the could the could the could the could the could the could the could \n",
      "==================================================\n",
      "Iteration #: 5\n",
      "Epoch 1/1\n",
      "162739/162739 [==============================] - 4s 23us/step - loss: 1.7566\n",
      "Generating from seed: fficulty w\n",
      "fficulty with the was and the dormouse the gryphon the was and the dormouse the gryphon the was and the dormou\n",
      "==================================================\n",
      "Iteration #: 6\n",
      "Epoch 1/1\n",
      "162739/162739 [==============================] - 4s 23us/step - loss: 1.7084\n",
      "Generating from seed: lass box t\n",
      "lass box the way see were the was she was she was she was she was she was she was she was she was she was she \n",
      "==================================================\n",
      "Iteration #: 7\n",
      "Epoch 1/1\n",
      "162739/162739 [==============================] - 4s 23us/step - loss: 1.6680\n",
      "Generating from seed: efully acc\n",
      "efully accearing and she was she was she was she was she was she was she was she was she was she was she was s\n",
      "==================================================\n",
      "Iteration #: 8\n",
      "Epoch 1/1\n",
      "162739/162739 [==============================] - 4s 23us/step - loss: 1.6336\n",
      "Generating from seed: ould you t\n",
      "ould you the dormouse the doon as and the doon as and the doon as and the doon as and the doon as and the doon\n",
      "==================================================\n",
      "Iteration #: 9\n",
      "Epoch 1/1\n",
      "162739/162739 [==============================] - 4s 23us/step - loss: 1.6039\n",
      "Generating from seed: that’s all\n",
      "that’s all the project gutenberg-tm electronic works of the tore was so and the project gutenberg-tm electroni\n",
      "==================================================\n",
      "Iteration #: 10\n",
      "Epoch 1/1\n",
      "162739/162739 [==============================] - 4s 23us/step - loss: 1.5792\n",
      "Generating from seed:  works.  s\n",
      " works.  she had not got to the was she was she was she was she was she was she was she was she was she was sh\n",
      "==================================================\n",
      "Iteration #: 11\n",
      "Epoch 1/1\n",
      "162739/162739 [==============================] - 4s 23us/step - loss: 1.5570\n",
      "Generating from seed: lk with th\n",
      "lk with the reanch was so parting to the dormouse to herself ‘the dormouse to herself ‘the dormouse to herself\n",
      "==================================================\n",
      "Iteration #: 12\n",
      "Epoch 1/1\n",
      "162739/162739 [==============================] - 4s 23us/step - loss: 1.5362\n",
      "Generating from seed: y saw her,\n",
      "y saw her, in the pigsente this to the poor at the door the dinger the door the dinger the door the dinger the\n",
      "==================================================\n",
      "Iteration #: 13\n",
      "Epoch 1/1\n",
      "162739/162739 [==============================] - 4s 23us/step - loss: 1.5193\n",
      "Generating from seed:  of this p\n",
      " of this poor the king on the toor a mean because the mock turtle say, the mock turtle say, the mock turtle sa\n",
      "==================================================\n",
      "Iteration #: 14\n",
      "Epoch 1/1\n",
      "162739/162739 [==============================] - 4s 23us/step - loss: 1.5035\n",
      "Generating from seed: ling it al\n",
      "ling it alice said to herself, and the room the courted and the room the courted and the room the courted and \n",
      "==================================================\n",
      "Iteration #: 15\n",
      "Epoch 1/1\n",
      "162739/162739 [==============================] - 4s 23us/step - loss: 1.4886\n",
      "Generating from seed: ork, or an\n",
      "ork, or any deep to the convery the courted the hatter was and down and the door and the courted the hatter wa\n",
      "==================================================\n",
      "Iteration #: 16\n",
      "Epoch 1/1\n",
      "162739/162739 [==============================] - 4s 23us/step - loss: 1.4768\n",
      "Generating from seed: f feet in \n",
      "f feet in the court one of the court one of the court one of the court one of the court one of the court one o\n",
      "==================================================\n",
      "Iteration #: 17\n",
      "Epoch 1/1\n",
      "162739/162739 [==============================] - 4s 23us/step - loss: 1.4647\n",
      "Generating from seed: ow she was\n",
      "ow she was the door as the courted to the king but i don’t the king but i don’t the king but i don’t the king \n",
      "==================================================\n",
      "Iteration #: 18\n",
      "Epoch 1/1\n",
      "162739/162739 [==============================] - 4s 23us/step - loss: 1.4531\n",
      "Generating from seed:  wondering\n",
      " wondering it as a could, ‘i don’t know it is a course to the dormouse and the court, ‘i don’t know it is a co\n",
      "==================================================\n",
      "Iteration #: 19\n",
      "Epoch 1/1\n",
      "162739/162739 [==============================] - 4s 23us/step - loss: 1.4435\n",
      "Generating from seed: is.’  ‘it’\n",
      "is.’  ‘it’s the rook of the project gutenberg-tm electronic works and the project gutenberg-tm electronic work\n",
      "==================================================\n",
      "Iteration #: 20\n",
      "Epoch 1/1\n",
      "162739/162739 [==============================] - 4s 24us/step - loss: 1.4336\n",
      "Generating from seed: d finding \n",
      "d finding the duchess the march hare a creating the duchess the march hare a creating the duchess the march ha\n",
      "==================================================\n",
      "Iteration #: 21\n",
      "Epoch 1/1\n",
      "162739/162739 [==============================] - 4s 23us/step - loss: 1.4258\n",
      "Generating from seed: king rapid\n",
      "king rapide courtien as the door as the door as the door as the door as the door as the door as the door as th\n",
      "==================================================\n",
      "Iteration #: 22\n",
      "Epoch 1/1\n",
      "162739/162739 [==============================] - 4s 23us/step - loss: 1.4175\n",
      "Generating from seed:  ‘call the\n",
      " ‘call the took hard the thought they were the took hard the thought they were the took hard the thought they \n",
      "==================================================\n",
      "Iteration #: 23\n",
      "Epoch 1/1\n",
      "162739/162739 [==============================] - 4s 23us/step - loss: 1.4093\n",
      "Generating from seed: hing but a\n",
      "hing but alice replied at the began the door as the court, and the gryphon. ‘i’ve get in a mouse down the mous\n",
      "==================================================\n",
      "Iteration #: 24\n",
      "Epoch 1/1\n",
      "162739/162739 [==============================] - 4s 24us/step - loss: 1.4031\n",
      "Generating from seed:  passage, \n",
      " passage, he was such a little shated on the door a little shated on the door a little shated on the door a li\n"
     ]
    }
   ],
   "source": [
    "for iteration in range(NUM_ITERATIONS):\n",
    "    print(\"=\" * 50)\n",
    "    print(\"Iteration #: {}\".format(iteration))\n",
    "    model.fit(X, y, batch_size=BATCH_SIZE, epochs=NUM_EPOCHS_PER_ITERATION)\n",
    "\n",
    "    # testing model\n",
    "    # randomly choose a row from input_chars, then use it to\n",
    "    # generate text from model for next 100 chars\n",
    "    test_idx = np.random.randint(len(input_chars))\n",
    "    test_chars = input_chars[test_idx]\n",
    "    print(\"Generating from seed: {}\".format(test_chars))\n",
    "    print(test_chars, end=\"\")\n",
    "    for i in range(NUM_PREDS_PER_EPOCH):\n",
    "        Xtest = np.zeros((1, SEQLEN, nb_chars))\n",
    "        for j, ch in enumerate(test_chars):\n",
    "            Xtest[0, j, char2index[ch]] = 1\n",
    "        pred = model.predict(Xtest, verbose=0)[0]\n",
    "        ypred = index2char[np.argmax(pred)]\n",
    "        print(ypred, end=\"\")\n",
    "        # move forward with test_chars + ypred\n",
    "        test_chars = test_chars[1:] + ypred\n",
    "    print()"
   ]
  },
  {
   "cell_type": "code",
   "execution_count": null,
   "metadata": {},
   "outputs": [],
   "source": []
  }
 ],
 "metadata": {
  "kernelspec": {
   "display_name": "Python 3",
   "language": "python",
   "name": "python3"
  },
  "language_info": {
   "codemirror_mode": {
    "name": "ipython",
    "version": 3
   },
   "file_extension": ".py",
   "mimetype": "text/x-python",
   "name": "python",
   "nbconvert_exporter": "python",
   "pygments_lexer": "ipython3",
   "version": "3.7.3"
  }
 },
 "nbformat": 4,
 "nbformat_minor": 2
}
