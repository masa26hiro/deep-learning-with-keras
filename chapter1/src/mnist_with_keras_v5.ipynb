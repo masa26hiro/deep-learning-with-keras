{
 "cells": [
  {
   "cell_type": "code",
   "execution_count": 1,
   "metadata": {},
   "outputs": [],
   "source": [
    "\"\"\"applay regularizers\"\"\"\n",
    "import numpy as np\n",
    "from tensorflow_core.python.keras.api._v2.keras.datasets import mnist\n",
    "from tensorflow_core.python.keras.api._v2.keras.models import Sequential\n",
    "from tensorflow_core.python.keras.api._v2.keras.layers import Dense, Dropout, Activation\n",
    "from tensorflow_core.python.keras.api._v2.keras.optimizers import SGD, RMSprop, Adam\n",
    "from tensorflow_core.python.keras.api._v2.keras.utils import to_categorical\n",
    "import tensorflow_core.python.keras.api._v2.keras.regularizers as regularizers\n",
    "from make_tensorboard import make_tensorboard"
   ]
  },
  {
   "cell_type": "code",
   "execution_count": 2,
   "metadata": {},
   "outputs": [],
   "source": [
    "# 乱数の固定\n",
    "np.random.seed(1671)"
   ]
  },
  {
   "cell_type": "code",
   "execution_count": 3,
   "metadata": {},
   "outputs": [],
   "source": [
    "# パラメータ設定\n",
    "NB_EPOCH = 20           # エポック数\n",
    "BATCH_SIZE = 128        # バッチサイズ\n",
    "VERBOSE = 1             #\n",
    "NB_CLASSES = 10         # 出力数\n",
    "# OPTIMIZER = RMSprop()      # 最適化関数\n",
    "OPTIMIZER = Adam()      # 最適化関数\n",
    "N_HIDDEN = 128          # 隠れ層数\n",
    "VALIDATION_SPLIT = 0.2  # 検証データの割合\n",
    "DROPOUT = 0.3  # ← 追加"
   ]
  },
  {
   "cell_type": "code",
   "execution_count": 4,
   "metadata": {},
   "outputs": [],
   "source": [
    "# データの読み込み\n",
    "(X_train, y_train), (X_test, y_test) = mnist.load_data()\n",
    "RESHAPED = 784  # 28×28 = 784"
   ]
  },
  {
   "cell_type": "code",
   "execution_count": 5,
   "metadata": {},
   "outputs": [],
   "source": [
    "# データの整形\n",
    "TRAIN_DATA_SIZE = 60000\n",
    "TEST_DATA_SIZE = 10000\n",
    "X_train = X_train.reshape(TRAIN_DATA_SIZE, RESHAPED)\n",
    "X_test = X_test.reshape(TEST_DATA_SIZE, RESHAPED)\n",
    "X_train = X_train.astype('float32')\n",
    "X_test = X_test.astype('float32')"
   ]
  },
  {
   "cell_type": "code",
   "execution_count": 6,
   "metadata": {},
   "outputs": [
    {
     "name": "stdout",
     "output_type": "stream",
     "text": [
      "60000 train sample\n",
      "10000 test sample\n"
     ]
    }
   ],
   "source": [
    "# 正規化\n",
    "X_train /= 255\n",
    "X_test /= 255\n",
    "\n",
    "print(X_train.shape[0], 'train sample')\n",
    "print(X_test.shape[0], 'test sample')"
   ]
  },
  {
   "cell_type": "code",
   "execution_count": 7,
   "metadata": {},
   "outputs": [],
   "source": [
    "# ラベルをOne-hotエンコーディング\n",
    "Y_train = to_categorical(y_train, NB_CLASSES)\n",
    "Y_test = to_categorical(y_test, NB_CLASSES)"
   ]
  },
  {
   "cell_type": "code",
   "execution_count": 14,
   "metadata": {},
   "outputs": [
    {
     "name": "stdout",
     "output_type": "stream",
     "text": [
      "Model: \"sequential_1\"\n",
      "_________________________________________________________________\n",
      "Layer (type)                 Output Shape              Param #   \n",
      "=================================================================\n",
      "dense_3 (Dense)              (None, 128)               100480    \n",
      "_________________________________________________________________\n",
      "activation_3 (Activation)    (None, 128)               0         \n",
      "_________________________________________________________________\n",
      "dropout_2 (Dropout)          (None, 128)               0         \n",
      "_________________________________________________________________\n",
      "dense_4 (Dense)              (None, 128)               16512     \n",
      "_________________________________________________________________\n",
      "activation_4 (Activation)    (None, 128)               0         \n",
      "_________________________________________________________________\n",
      "dropout_3 (Dropout)          (None, 128)               0         \n",
      "_________________________________________________________________\n",
      "dense_5 (Dense)              (None, 10)                1290      \n",
      "_________________________________________________________________\n",
      "activation_5 (Activation)    (None, 10)                0         \n",
      "=================================================================\n",
      "Total params: 118,282\n",
      "Trainable params: 118,282\n",
      "Non-trainable params: 0\n",
      "_________________________________________________________________\n"
     ]
    }
   ],
   "source": [
    "# Sequentialモデルを定義\n",
    "model = Sequential()\n",
    "# 層を定義\n",
    "model.add(Dense(N_HIDDEN, input_shape=(RESHAPED,), kernel_regularizer=regularizers.l1_l2(l1=0.001, l2=0.001)))  # ← 784 × 128\n",
    "model.add(Activation('relu'))\n",
    "model.add(Dropout(DROPOUT))  # ← 追加\n",
    "model.add(Dense(N_HIDDEN, kernel_regularizer=regularizers.l1_l2(l1=0.001, l2=0.001)))                           # ← 128 × 128\n",
    "model.add(Activation('relu'))\n",
    "model.add(Dropout(DROPOUT))  # ← 追加\n",
    "model.add(Dense(NB_CLASSES, kernel_regularizer=regularizers.l1_l2(l1=0.001, l2=0.001)))                         # ← 128 × 10\n",
    "model.add(Activation('softmax'))\n",
    "# モデルを評価しTensorBoard互換のログに書き込む\n",
    "model.summary()"
   ]
  },
  {
   "cell_type": "code",
   "execution_count": 15,
   "metadata": {},
   "outputs": [],
   "source": [
    "# モデルをコンパイル\n",
    "# -損失関数　：カテゴリカルクロスエントロピー\n",
    "# -最適化関数：確率的勾配降下法\n",
    "# -評価関数　：Accuracy(正解率)\n",
    "model.compile(loss='categorical_crossentropy',\n",
    "              optimizer=OPTIMIZER,\n",
    "              metrics=['accuracy'])"
   ]
  },
  {
   "cell_type": "code",
   "execution_count": 16,
   "metadata": {},
   "outputs": [],
   "source": [
    "# tensorboard用\n",
    "callbacks = [make_tensorboard(set_dir_name='keras_MINST_V5')]"
   ]
  },
  {
   "cell_type": "code",
   "execution_count": 17,
   "metadata": {},
   "outputs": [
    {
     "name": "stdout",
     "output_type": "stream",
     "text": [
      "Train on 48000 samples, validate on 12000 samples\n",
      "Epoch 1/20\n",
      "48000/48000 [==============================] - 3s 54us/sample - loss: 1.6259 - accuracy: 0.8295 - val_loss: 1.0464 - val_accuracy: 0.9129\n",
      "Epoch 2/20\n",
      "48000/48000 [==============================] - 2s 33us/sample - loss: 1.1448 - accuracy: 0.8663 - val_loss: 0.9577 - val_accuracy: 0.9202\n",
      "Epoch 3/20\n",
      "48000/48000 [==============================] - 2s 34us/sample - loss: 1.0873 - accuracy: 0.8734 - val_loss: 0.9092 - val_accuracy: 0.9249\n",
      "Epoch 4/20\n",
      "48000/48000 [==============================] - 2s 33us/sample - loss: 1.0535 - accuracy: 0.8771 - val_loss: 0.8872 - val_accuracy: 0.9293\n",
      "Epoch 5/20\n",
      "48000/48000 [==============================] - 2s 33us/sample - loss: 1.0336 - accuracy: 0.8799 - val_loss: 0.8721 - val_accuracy: 0.9296\n",
      "Epoch 6/20\n",
      "48000/48000 [==============================] - 2s 33us/sample - loss: 1.0205 - accuracy: 0.8813 - val_loss: 0.8683 - val_accuracy: 0.9299\n",
      "Epoch 7/20\n",
      "48000/48000 [==============================] - 2s 32us/sample - loss: 1.0075 - accuracy: 0.8817 - val_loss: 0.8514 - val_accuracy: 0.9301\n",
      "Epoch 8/20\n",
      "48000/48000 [==============================] - 2s 33us/sample - loss: 1.0006 - accuracy: 0.8825 - val_loss: 0.8319 - val_accuracy: 0.9334\n",
      "Epoch 9/20\n",
      "48000/48000 [==============================] - 2s 32us/sample - loss: 0.9906 - accuracy: 0.8825 - val_loss: 0.8299 - val_accuracy: 0.9362\n",
      "Epoch 10/20\n",
      "48000/48000 [==============================] - 2s 33us/sample - loss: 0.9866 - accuracy: 0.8837 - val_loss: 0.8174 - val_accuracy: 0.9356\n",
      "Epoch 11/20\n",
      "48000/48000 [==============================] - 2s 33us/sample - loss: 0.9781 - accuracy: 0.8863 - val_loss: 0.8213 - val_accuracy: 0.9356\n",
      "Epoch 12/20\n",
      "48000/48000 [==============================] - 2s 33us/sample - loss: 0.9803 - accuracy: 0.8850 - val_loss: 0.8188 - val_accuracy: 0.9330\n",
      "Epoch 13/20\n",
      "48000/48000 [==============================] - 2s 32us/sample - loss: 0.9695 - accuracy: 0.8875 - val_loss: 0.8046 - val_accuracy: 0.9354\n",
      "Epoch 14/20\n",
      "48000/48000 [==============================] - 2s 34us/sample - loss: 0.9682 - accuracy: 0.8849 - val_loss: 0.8111 - val_accuracy: 0.9366\n",
      "Epoch 15/20\n",
      "48000/48000 [==============================] - 2s 33us/sample - loss: 0.9687 - accuracy: 0.8864 - val_loss: 0.8006 - val_accuracy: 0.9370\n",
      "Epoch 16/20\n",
      "48000/48000 [==============================] - 2s 32us/sample - loss: 0.9647 - accuracy: 0.8854 - val_loss: 0.8039 - val_accuracy: 0.9359\n",
      "Epoch 17/20\n",
      "48000/48000 [==============================] - 2s 33us/sample - loss: 0.9651 - accuracy: 0.8856 - val_loss: 0.8058 - val_accuracy: 0.9367\n",
      "Epoch 18/20\n",
      "48000/48000 [==============================] - 2s 33us/sample - loss: 0.9621 - accuracy: 0.8846 - val_loss: 0.8053 - val_accuracy: 0.9372\n",
      "Epoch 19/20\n",
      "48000/48000 [==============================] - 2s 33us/sample - loss: 0.9550 - accuracy: 0.8882 - val_loss: 0.7943 - val_accuracy: 0.9383\n",
      "Epoch 20/20\n",
      "48000/48000 [==============================] - 2s 33us/sample - loss: 0.9544 - accuracy: 0.8872 - val_loss: 0.7962 - val_accuracy: 0.9367\n"
     ]
    },
    {
     "data": {
      "text/plain": [
       "<tensorflow.python.keras.callbacks.History at 0x259e11f3278>"
      ]
     },
     "execution_count": 17,
     "metadata": {},
     "output_type": "execute_result"
    }
   ],
   "source": [
    "# 学習\n",
    "# -バッチサイズ　　：128\n",
    "# -エポック数　　　：200\n",
    "# -コールバック関数：make_tensorboard(訓練の各段階で呼び出される関数)\n",
    "# -ＶＥＲＢＯＳＥ　：詳細表示モードON\n",
    "# -検証データの割合：20%\n",
    "model.fit(X_train, Y_train,\n",
    "          batch_size=BATCH_SIZE,\n",
    "          epochs=NB_EPOCH,\n",
    "          callbacks=callbacks,\n",
    "          verbose=VERBOSE,\n",
    "          validation_split=VALIDATION_SPLIT)"
   ]
  },
  {
   "cell_type": "code",
   "execution_count": 18,
   "metadata": {},
   "outputs": [
    {
     "name": "stdout",
     "output_type": "stream",
     "text": [
      "\n",
      "Test score: 0.7959384333610535\n",
      "Test accuracy: 0.938\n"
     ]
    }
   ],
   "source": [
    "# スコアを表示\n",
    "score = model.evaluate(X_test, Y_test, verbose=0)\n",
    "print(\"\\nTest score:\", score[0])\n",
    "print('Test accuracy:', score[1])"
   ]
  },
  {
   "cell_type": "code",
   "execution_count": 13,
   "metadata": {},
   "outputs": [
    {
     "data": {
      "text/plain": [
       "'RMSprop\\n2s 34us/sample - loss: 0.0696 - accuracy: 0.9798 - val_loss: 0.1060 - val_accuracy: 0.9778\\nTest score: 0.1014234864374066\\nTest accuracy: 0.9786\\n'"
      ]
     },
     "execution_count": 13,
     "metadata": {},
     "output_type": "execute_result"
    }
   ],
   "source": [
    "'''RMSprop\n",
    "2s 34us/sample - loss: 0.0696 - accuracy: 0.9798 - val_loss: 0.1060 - val_accuracy: 0.9778\n",
    "Test score: 0.1014234864374066\n",
    "Test accuracy: 0.9786\n",
    "'''"
   ]
  }
 ],
 "metadata": {
  "kernelspec": {
   "display_name": "Python 3",
   "language": "python",
   "name": "python3"
  },
  "language_info": {
   "codemirror_mode": {
    "name": "ipython",
    "version": 3
   },
   "file_extension": ".py",
   "mimetype": "text/x-python",
   "name": "python",
   "nbconvert_exporter": "python",
   "pygments_lexer": "ipython3",
   "version": "3.7.3"
  }
 },
 "nbformat": 4,
 "nbformat_minor": 4
}
