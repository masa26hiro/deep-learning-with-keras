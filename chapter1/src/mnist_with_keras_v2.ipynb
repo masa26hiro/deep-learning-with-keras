{
 "cells": [
  {
   "cell_type": "code",
   "execution_count": 1,
   "metadata": {},
   "outputs": [],
   "source": [
    "\"\"\"add hidden layer\"\"\"\n",
    "import numpy as np\n",
    "from tensorflow_core.python.keras.api._v2.keras.datasets import mnist\n",
    "from tensorflow_core.python.keras.api._v2.keras.models import Sequential\n",
    "from tensorflow_core.python.keras.api._v2.keras.layers import Dense, Activation\n",
    "from tensorflow_core.python.keras.api._v2.keras.optimizers import SGD\n",
    "from tensorflow_core.python.keras.api._v2.keras.utils import to_categorical\n",
    "from make_tensorboard import make_tensorboard"
   ]
  },
  {
   "cell_type": "code",
   "execution_count": 2,
   "metadata": {},
   "outputs": [],
   "source": [
    "# 乱数の固定\n",
    "np.random.seed(1671)"
   ]
  },
  {
   "cell_type": "code",
   "execution_count": 3,
   "metadata": {},
   "outputs": [],
   "source": [
    "# パラメータ設定\n",
    "NB_EPOCH = 20           # エポック数\n",
    "BATCH_SIZE = 128        # バッチサイズ\n",
    "VERBOSE = 1             #\n",
    "NB_CLASSES = 10         # 出力数\n",
    "OPTIMIZER = SGD()       # 最適化関数\n",
    "N_HIDDEN = 128          # 隠れ層数\n",
    "VALIDATION_SPLIT = 0.2  # 検証データの割合"
   ]
  },
  {
   "cell_type": "code",
   "execution_count": 4,
   "metadata": {},
   "outputs": [],
   "source": [
    "# データの読み込み\n",
    "(X_train, y_train), (X_test, y_test) = mnist.load_data()\n",
    "RESHAPED = 784  # 28×28 = 784"
   ]
  },
  {
   "cell_type": "code",
   "execution_count": 5,
   "metadata": {},
   "outputs": [],
   "source": [
    "# データの整形\n",
    "TRAIN_DATA_SIZE = 60000\n",
    "TEST_DATA_SIZE = 10000\n",
    "X_train = X_train.reshape(TRAIN_DATA_SIZE, RESHAPED)\n",
    "X_test = X_test.reshape(TEST_DATA_SIZE, RESHAPED)\n",
    "X_train = X_train.astype('float32')\n",
    "X_test = X_test.astype('float32')"
   ]
  },
  {
   "cell_type": "code",
   "execution_count": 6,
   "metadata": {},
   "outputs": [
    {
     "name": "stdout",
     "output_type": "stream",
     "text": [
      "60000 train sample\n",
      "10000 test sample\n"
     ]
    }
   ],
   "source": [
    "# 正規化\n",
    "X_train /= 255\n",
    "X_test /= 255\n",
    "\n",
    "print(X_train.shape[0], 'train sample')\n",
    "print(X_test.shape[0], 'test sample')"
   ]
  },
  {
   "cell_type": "code",
   "execution_count": 7,
   "metadata": {},
   "outputs": [],
   "source": [
    "# ラベルをOne-hotエンコーディング\n",
    "Y_train = to_categorical(y_train, NB_CLASSES)\n",
    "Y_test = to_categorical(y_test, NB_CLASSES)"
   ]
  },
  {
   "cell_type": "code",
   "execution_count": 8,
   "metadata": {},
   "outputs": [
    {
     "name": "stdout",
     "output_type": "stream",
     "text": [
      "Model: \"sequential\"\n",
      "_________________________________________________________________\n",
      "Layer (type)                 Output Shape              Param #   \n",
      "=================================================================\n",
      "dense (Dense)                (None, 128)               100480    \n",
      "_________________________________________________________________\n",
      "activation (Activation)      (None, 128)               0         \n",
      "_________________________________________________________________\n",
      "dense_1 (Dense)              (None, 128)               16512     \n",
      "_________________________________________________________________\n",
      "activation_1 (Activation)    (None, 128)               0         \n",
      "_________________________________________________________________\n",
      "dense_2 (Dense)              (None, 10)                1290      \n",
      "_________________________________________________________________\n",
      "activation_2 (Activation)    (None, 10)                0         \n",
      "=================================================================\n",
      "Total params: 118,282\n",
      "Trainable params: 118,282\n",
      "Non-trainable params: 0\n",
      "_________________________________________________________________\n"
     ]
    }
   ],
   "source": [
    "# Sequentialモデルを定義\n",
    "model = Sequential()\n",
    "# 層を定義\n",
    "model.add(Dense(N_HIDDEN, input_shape=(RESHAPED,)))  # ← 784 × 128\n",
    "model.add(Activation('relu'))\n",
    "model.add(Dense(N_HIDDEN))                           # ← 128 × 128\n",
    "model.add(Activation('relu'))\n",
    "model.add(Dense(NB_CLASSES))                         # ← 128 × 10\n",
    "model.add(Activation('softmax'))\n",
    "# モデルを評価しTensorBoard互換のログに書き込む\n",
    "model.summary()"
   ]
  },
  {
   "cell_type": "code",
   "execution_count": 9,
   "metadata": {},
   "outputs": [],
   "source": [
    "# モデルをコンパイル\n",
    "# -損失関数　：カテゴリカルクロスエントロピー\n",
    "# -最適化関数：確率的勾配降下法\n",
    "# -評価関数　：Accuracy(正解率)\n",
    "model.compile(loss='categorical_crossentropy',\n",
    "              optimizer=OPTIMIZER,\n",
    "              metrics=['accuracy'])"
   ]
  },
  {
   "cell_type": "code",
   "execution_count": 10,
   "metadata": {},
   "outputs": [],
   "source": [
    "# tensorboard用\n",
    "callbacks = [make_tensorboard(set_dir_name='keras_MINST_V2')]"
   ]
  },
  {
   "cell_type": "code",
   "execution_count": 11,
   "metadata": {},
   "outputs": [
    {
     "name": "stdout",
     "output_type": "stream",
     "text": [
      "Train on 48000 samples, validate on 12000 samples\n",
      "Epoch 1/20\n",
      "  128/48000 [..............................] - ETA: 7:11 - loss: 2.3059 - accuracy: 0.1328WARNING:tensorflow:Method (on_train_batch_end) is slow compared to the batch update (0.129532). Check your callbacks.\n",
      "  256/48000 [..............................] - ETA: 3:56 - loss: 2.3273 - accuracy: 0.1133WARNING:tensorflow:Method (on_train_batch_end) is slow compared to the batch update (0.106023). Check your callbacks.\n",
      "48000/48000 [==============================] - 3s 56us/sample - loss: 1.4223 - accuracy: 0.6689 - val_loss: 0.6984 - val_accuracy: 0.8485\n",
      "Epoch 2/20\n",
      "48000/48000 [==============================] - 1s 27us/sample - loss: 0.5681 - accuracy: 0.8575 - val_loss: 0.4375 - val_accuracy: 0.8842\n",
      "Epoch 3/20\n",
      "48000/48000 [==============================] - 1s 27us/sample - loss: 0.4262 - accuracy: 0.8823 - val_loss: 0.3647 - val_accuracy: 0.8999\n",
      "Epoch 4/20\n",
      "48000/48000 [==============================] - 1s 27us/sample - loss: 0.3726 - accuracy: 0.8942 - val_loss: 0.3308 - val_accuracy: 0.9057\n",
      "Epoch 5/20\n",
      "48000/48000 [==============================] - 1s 27us/sample - loss: 0.3412 - accuracy: 0.9030 - val_loss: 0.3077 - val_accuracy: 0.9123\n",
      "Epoch 6/20\n",
      "48000/48000 [==============================] - 1s 26us/sample - loss: 0.3194 - accuracy: 0.9084 - val_loss: 0.2913 - val_accuracy: 0.9173\n",
      "Epoch 7/20\n",
      "48000/48000 [==============================] - 1s 27us/sample - loss: 0.3021 - accuracy: 0.9133 - val_loss: 0.2802 - val_accuracy: 0.9182\n",
      "Epoch 8/20\n",
      "48000/48000 [==============================] - 1s 26us/sample - loss: 0.2877 - accuracy: 0.9182 - val_loss: 0.2675 - val_accuracy: 0.9240\n",
      "Epoch 9/20\n",
      "48000/48000 [==============================] - 1s 26us/sample - loss: 0.2754 - accuracy: 0.9214 - val_loss: 0.2573 - val_accuracy: 0.9264\n",
      "Epoch 10/20\n",
      "48000/48000 [==============================] - 1s 28us/sample - loss: 0.2643 - accuracy: 0.9245 - val_loss: 0.2486 - val_accuracy: 0.9300\n",
      "Epoch 11/20\n",
      "48000/48000 [==============================] - 1s 27us/sample - loss: 0.2540 - accuracy: 0.9281 - val_loss: 0.2407 - val_accuracy: 0.9308\n",
      "Epoch 12/20\n",
      "48000/48000 [==============================] - 1s 26us/sample - loss: 0.2451 - accuracy: 0.9309 - val_loss: 0.2331 - val_accuracy: 0.9341\n",
      "Epoch 13/20\n",
      "48000/48000 [==============================] - 1s 27us/sample - loss: 0.2367 - accuracy: 0.9326 - val_loss: 0.2271 - val_accuracy: 0.9352\n",
      "Epoch 14/20\n",
      "48000/48000 [==============================] - 1s 27us/sample - loss: 0.2289 - accuracy: 0.9351 - val_loss: 0.2202 - val_accuracy: 0.9377\n",
      "Epoch 15/20\n",
      "48000/48000 [==============================] - 1s 26us/sample - loss: 0.2215 - accuracy: 0.9371 - val_loss: 0.2140 - val_accuracy: 0.9408\n",
      "Epoch 16/20\n",
      "48000/48000 [==============================] - 1s 28us/sample - loss: 0.2146 - accuracy: 0.9387 - val_loss: 0.2086 - val_accuracy: 0.9427\n",
      "Epoch 17/20\n",
      "48000/48000 [==============================] - 1s 28us/sample - loss: 0.2080 - accuracy: 0.9409 - val_loss: 0.2038 - val_accuracy: 0.9425\n",
      "Epoch 18/20\n",
      "48000/48000 [==============================] - 1s 27us/sample - loss: 0.2021 - accuracy: 0.9417 - val_loss: 0.1991 - val_accuracy: 0.9446\n",
      "Epoch 19/20\n",
      "48000/48000 [==============================] - 1s 29us/sample - loss: 0.1962 - accuracy: 0.9434 - val_loss: 0.1945 - val_accuracy: 0.9462\n",
      "Epoch 20/20\n",
      "48000/48000 [==============================] - 1s 28us/sample - loss: 0.1908 - accuracy: 0.9452 - val_loss: 0.1895 - val_accuracy: 0.9477\n"
     ]
    },
    {
     "data": {
      "text/plain": [
       "<tensorflow.python.keras.callbacks.History at 0x19c38380358>"
      ]
     },
     "execution_count": 11,
     "metadata": {},
     "output_type": "execute_result"
    }
   ],
   "source": [
    "# 学習\n",
    "# -バッチサイズ　　：128\n",
    "# -エポック数　　　：200\n",
    "# -コールバック関数：make_tensorboard(訓練の各段階で呼び出される関数)\n",
    "# -ＶＥＲＢＯＳＥ　：詳細表示モードON\n",
    "# -検証データの割合：20%\n",
    "model.fit(X_train, Y_train,\n",
    "          batch_size=BATCH_SIZE,\n",
    "          epochs=NB_EPOCH,\n",
    "          callbacks=callbacks,\n",
    "          verbose=VERBOSE,\n",
    "          validation_split=VALIDATION_SPLIT)"
   ]
  },
  {
   "cell_type": "code",
   "execution_count": 12,
   "metadata": {},
   "outputs": [
    {
     "name": "stdout",
     "output_type": "stream",
     "text": [
      "\n",
      "Test score: 0.18869757368266582\n",
      "Test accuracy: 0.9465\n"
     ]
    }
   ],
   "source": [
    "# スコアを表示\n",
    "score = model.evaluate(X_test, Y_test, verbose=0)\n",
    "print(\"\\nTest score:\", score[0])\n",
    "print('Test accuracy:', score[1])"
   ]
  },
  {
   "cell_type": "code",
   "execution_count": null,
   "metadata": {},
   "outputs": [],
   "source": []
  }
 ],
 "metadata": {
  "kernelspec": {
   "display_name": "Python 3",
   "language": "python",
   "name": "python3"
  },
  "language_info": {
   "codemirror_mode": {
    "name": "ipython",
    "version": 3
   },
   "file_extension": ".py",
   "mimetype": "text/x-python",
   "name": "python",
   "nbconvert_exporter": "python",
   "pygments_lexer": "ipython3",
   "version": "3.7.3"
  }
 },
 "nbformat": 4,
 "nbformat_minor": 4
}
