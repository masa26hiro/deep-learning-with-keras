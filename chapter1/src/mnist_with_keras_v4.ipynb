{
 "cells": [
  {
   "cell_type": "code",
   "execution_count": 1,
   "metadata": {},
   "outputs": [],
   "source": [
    "\"\"\"change optimzer\"\"\"\n",
    "import numpy as np\n",
    "from tensorflow_core.python.keras.api._v2.keras.datasets import mnist\n",
    "from tensorflow_core.python.keras.api._v2.keras.models import Sequential\n",
    "from tensorflow_core.python.keras.api._v2.keras.layers import Dense, Dropout, Activation\n",
    "from tensorflow_core.python.keras.api._v2.keras.optimizers import SGD, RMSprop, Adam\n",
    "from tensorflow_core.python.keras.api._v2.keras.utils import to_categorical\n",
    "from make_tensorboard import make_tensorboard"
   ]
  },
  {
   "cell_type": "code",
   "execution_count": 2,
   "metadata": {},
   "outputs": [],
   "source": [
    "# 乱数の固定\n",
    "np.random.seed(1671)"
   ]
  },
  {
   "cell_type": "code",
   "execution_count": 3,
   "metadata": {},
   "outputs": [],
   "source": [
    "# パラメータ設定\n",
    "NB_EPOCH = 20           # エポック数\n",
    "BATCH_SIZE = 128        # バッチサイズ\n",
    "VERBOSE = 1             #\n",
    "NB_CLASSES = 10         # 出力数\n",
    "# OPTIMIZER = RMSprop()      # 最適化関数\n",
    "OPTIMIZER = Adam()      # 最適化関数\n",
    "N_HIDDEN = 128          # 隠れ層数\n",
    "VALIDATION_SPLIT = 0.2  # 検証データの割合\n",
    "DROPOUT = 0.3  # ← 追加"
   ]
  },
  {
   "cell_type": "code",
   "execution_count": 4,
   "metadata": {},
   "outputs": [],
   "source": [
    "# データの読み込み\n",
    "(X_train, y_train), (X_test, y_test) = mnist.load_data()\n",
    "RESHAPED = 784  # 28×28 = 784"
   ]
  },
  {
   "cell_type": "code",
   "execution_count": 5,
   "metadata": {},
   "outputs": [],
   "source": [
    "# データの整形\n",
    "TRAIN_DATA_SIZE = 60000\n",
    "TEST_DATA_SIZE = 10000\n",
    "X_train = X_train.reshape(TRAIN_DATA_SIZE, RESHAPED)\n",
    "X_test = X_test.reshape(TEST_DATA_SIZE, RESHAPED)\n",
    "X_train = X_train.astype('float32')\n",
    "X_test = X_test.astype('float32')"
   ]
  },
  {
   "cell_type": "code",
   "execution_count": 6,
   "metadata": {},
   "outputs": [
    {
     "name": "stdout",
     "output_type": "stream",
     "text": [
      "60000 train sample\n",
      "10000 test sample\n"
     ]
    }
   ],
   "source": [
    "# 正規化\n",
    "X_train /= 255\n",
    "X_test /= 255\n",
    "\n",
    "print(X_train.shape[0], 'train sample')\n",
    "print(X_test.shape[0], 'test sample')"
   ]
  },
  {
   "cell_type": "code",
   "execution_count": 7,
   "metadata": {},
   "outputs": [],
   "source": [
    "# ラベルをOne-hotエンコーディング\n",
    "Y_train = to_categorical(y_train, NB_CLASSES)\n",
    "Y_test = to_categorical(y_test, NB_CLASSES)"
   ]
  },
  {
   "cell_type": "code",
   "execution_count": 8,
   "metadata": {},
   "outputs": [
    {
     "name": "stdout",
     "output_type": "stream",
     "text": [
      "Model: \"sequential\"\n",
      "_________________________________________________________________\n",
      "Layer (type)                 Output Shape              Param #   \n",
      "=================================================================\n",
      "dense (Dense)                (None, 128)               100480    \n",
      "_________________________________________________________________\n",
      "activation (Activation)      (None, 128)               0         \n",
      "_________________________________________________________________\n",
      "dropout (Dropout)            (None, 128)               0         \n",
      "_________________________________________________________________\n",
      "dense_1 (Dense)              (None, 128)               16512     \n",
      "_________________________________________________________________\n",
      "activation_1 (Activation)    (None, 128)               0         \n",
      "_________________________________________________________________\n",
      "dropout_1 (Dropout)          (None, 128)               0         \n",
      "_________________________________________________________________\n",
      "dense_2 (Dense)              (None, 10)                1290      \n",
      "_________________________________________________________________\n",
      "activation_2 (Activation)    (None, 10)                0         \n",
      "=================================================================\n",
      "Total params: 118,282\n",
      "Trainable params: 118,282\n",
      "Non-trainable params: 0\n",
      "_________________________________________________________________\n"
     ]
    }
   ],
   "source": [
    "# Sequentialモデルを定義\n",
    "model = Sequential()\n",
    "# 層を定義\n",
    "model.add(Dense(N_HIDDEN, input_shape=(RESHAPED,)))  # ← 784 × 128\n",
    "model.add(Activation('relu'))\n",
    "model.add(Dropout(DROPOUT))  # ← 追加\n",
    "model.add(Dense(N_HIDDEN))                           # ← 128 × 128\n",
    "model.add(Activation('relu'))\n",
    "model.add(Dropout(DROPOUT))  # ← 追加\n",
    "model.add(Dense(NB_CLASSES))                         # ← 128 × 10\n",
    "model.add(Activation('softmax'))\n",
    "# モデルを評価しTensorBoard互換のログに書き込む\n",
    "model.summary()"
   ]
  },
  {
   "cell_type": "code",
   "execution_count": 9,
   "metadata": {},
   "outputs": [],
   "source": [
    "# モデルをコンパイル\n",
    "# -損失関数　：カテゴリカルクロスエントロピー\n",
    "# -最適化関数：確率的勾配降下法\n",
    "# -評価関数　：Accuracy(正解率)\n",
    "model.compile(loss='categorical_crossentropy',\n",
    "              optimizer=OPTIMIZER,\n",
    "              metrics=['accuracy'])"
   ]
  },
  {
   "cell_type": "code",
   "execution_count": 10,
   "metadata": {},
   "outputs": [],
   "source": [
    "# tensorboard用\n",
    "callbacks = [make_tensorboard(set_dir_name='keras_MINST_V4')]"
   ]
  },
  {
   "cell_type": "code",
   "execution_count": 11,
   "metadata": {},
   "outputs": [
    {
     "name": "stdout",
     "output_type": "stream",
     "text": [
      "Train on 48000 samples, validate on 12000 samples\n",
      "Epoch 1/20\n",
      "  128/48000 [..............................] - ETA: 8:32 - loss: 2.3408 - accuracy: 0.1172WARNING:tensorflow:Method (on_train_batch_end) is slow compared to the batch update (0.130029). Check your callbacks.\n",
      "48000/48000 [==============================] - 3s 67us/sample - loss: 0.5083 - accuracy: 0.8451 - val_loss: 0.1826 - val_accuracy: 0.9475\n",
      "Epoch 2/20\n",
      "48000/48000 [==============================] - 2s 33us/sample - loss: 0.2301 - accuracy: 0.9315 - val_loss: 0.1339 - val_accuracy: 0.9597\n",
      "Epoch 3/20\n",
      "48000/48000 [==============================] - 2s 33us/sample - loss: 0.1765 - accuracy: 0.9472 - val_loss: 0.1141 - val_accuracy: 0.9649\n",
      "Epoch 4/20\n",
      "48000/48000 [==============================] - 2s 33us/sample - loss: 0.1487 - accuracy: 0.9542 - val_loss: 0.1094 - val_accuracy: 0.9664\n",
      "Epoch 5/20\n",
      "48000/48000 [==============================] - 2s 33us/sample - loss: 0.1275 - accuracy: 0.9610 - val_loss: 0.0963 - val_accuracy: 0.9718\n",
      "Epoch 6/20\n",
      "48000/48000 [==============================] - 2s 32us/sample - loss: 0.1169 - accuracy: 0.9636 - val_loss: 0.0938 - val_accuracy: 0.9721\n",
      "Epoch 7/20\n",
      "48000/48000 [==============================] - 2s 32us/sample - loss: 0.1039 - accuracy: 0.9683 - val_loss: 0.0843 - val_accuracy: 0.9747\n",
      "Epoch 8/20\n",
      "48000/48000 [==============================] - 2s 34us/sample - loss: 0.0977 - accuracy: 0.9704 - val_loss: 0.0863 - val_accuracy: 0.9731\n",
      "Epoch 9/20\n",
      "48000/48000 [==============================] - 2s 31us/sample - loss: 0.0895 - accuracy: 0.9720 - val_loss: 0.0831 - val_accuracy: 0.9762\n",
      "Epoch 10/20\n",
      "48000/48000 [==============================] - 2s 32us/sample - loss: 0.0831 - accuracy: 0.9744 - val_loss: 0.0774 - val_accuracy: 0.9772\n",
      "Epoch 11/20\n",
      "48000/48000 [==============================] - 2s 33us/sample - loss: 0.0797 - accuracy: 0.9747 - val_loss: 0.0792 - val_accuracy: 0.9762\n",
      "Epoch 12/20\n",
      "48000/48000 [==============================] - 2s 33us/sample - loss: 0.0731 - accuracy: 0.9767 - val_loss: 0.0831 - val_accuracy: 0.9764\n",
      "Epoch 13/20\n",
      "48000/48000 [==============================] - 2s 32us/sample - loss: 0.0684 - accuracy: 0.9785 - val_loss: 0.0802 - val_accuracy: 0.9775\n",
      "Epoch 14/20\n",
      "48000/48000 [==============================] - 2s 33us/sample - loss: 0.0659 - accuracy: 0.9787 - val_loss: 0.0791 - val_accuracy: 0.9787\n",
      "Epoch 15/20\n",
      "48000/48000 [==============================] - 2s 33us/sample - loss: 0.0636 - accuracy: 0.9793 - val_loss: 0.0838 - val_accuracy: 0.9774\n",
      "Epoch 16/20\n",
      "48000/48000 [==============================] - 2s 32us/sample - loss: 0.0623 - accuracy: 0.9796 - val_loss: 0.0813 - val_accuracy: 0.9769\n",
      "Epoch 17/20\n",
      "48000/48000 [==============================] - 2s 32us/sample - loss: 0.0574 - accuracy: 0.9812 - val_loss: 0.0807 - val_accuracy: 0.9768\n",
      "Epoch 18/20\n",
      "48000/48000 [==============================] - 2s 32us/sample - loss: 0.0577 - accuracy: 0.9810 - val_loss: 0.0802 - val_accuracy: 0.9780\n",
      "Epoch 19/20\n",
      "48000/48000 [==============================] - 1s 31us/sample - loss: 0.0570 - accuracy: 0.9814 - val_loss: 0.0772 - val_accuracy: 0.9793\n",
      "Epoch 20/20\n",
      "48000/48000 [==============================] - 1s 31us/sample - loss: 0.0539 - accuracy: 0.9835 - val_loss: 0.0830 - val_accuracy: 0.9773\n"
     ]
    },
    {
     "data": {
      "text/plain": [
       "<tensorflow.python.keras.callbacks.History at 0x13c38a7e240>"
      ]
     },
     "execution_count": 11,
     "metadata": {},
     "output_type": "execute_result"
    }
   ],
   "source": [
    "# 学習\n",
    "# -バッチサイズ　　：128\n",
    "# -エポック数　　　：200\n",
    "# -コールバック関数：make_tensorboard(訓練の各段階で呼び出される関数)\n",
    "# -ＶＥＲＢＯＳＥ　：詳細表示モードON\n",
    "# -検証データの割合：20%\n",
    "model.fit(X_train, Y_train,\n",
    "          batch_size=BATCH_SIZE,\n",
    "          epochs=NB_EPOCH,\n",
    "          callbacks=callbacks,\n",
    "          verbose=VERBOSE,\n",
    "          validation_split=VALIDATION_SPLIT)"
   ]
  },
  {
   "cell_type": "code",
   "execution_count": 12,
   "metadata": {},
   "outputs": [
    {
     "name": "stdout",
     "output_type": "stream",
     "text": [
      "\n",
      "Test score: 0.0798554075885986\n",
      "Test accuracy: 0.9776\n"
     ]
    }
   ],
   "source": [
    "# スコアを表示\n",
    "score = model.evaluate(X_test, Y_test, verbose=0)\n",
    "print(\"\\nTest score:\", score[0])\n",
    "print('Test accuracy:', score[1])"
   ]
  },
  {
   "cell_type": "code",
   "execution_count": 13,
   "metadata": {},
   "outputs": [
    {
     "data": {
      "text/plain": [
       "'RMSprop\\n2s 34us/sample - loss: 0.0696 - accuracy: 0.9798 - val_loss: 0.1060 - val_accuracy: 0.9778\\nTest score: 0.1014234864374066\\nTest accuracy: 0.9786\\n'"
      ]
     },
     "execution_count": 13,
     "metadata": {},
     "output_type": "execute_result"
    }
   ],
   "source": [
    "'''RMSprop\n",
    "2s 34us/sample - loss: 0.0696 - accuracy: 0.9798 - val_loss: 0.1060 - val_accuracy: 0.9778\n",
    "Test score: 0.1014234864374066\n",
    "Test accuracy: 0.9786\n",
    "'''"
   ]
  }
 ],
 "metadata": {
  "kernelspec": {
   "display_name": "Python 3",
   "language": "python",
   "name": "python3"
  },
  "language_info": {
   "codemirror_mode": {
    "name": "ipython",
    "version": 3
   },
   "file_extension": ".py",
   "mimetype": "text/x-python",
   "name": "python",
   "nbconvert_exporter": "python",
   "pygments_lexer": "ipython3",
   "version": "3.7.3"
  }
 },
 "nbformat": 4,
 "nbformat_minor": 4
}
