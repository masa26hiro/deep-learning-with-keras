{
 "cells": [
  {
   "cell_type": "code",
   "execution_count": 26,
   "metadata": {},
   "outputs": [],
   "source": [
    "from __future__ import division, print_function\n",
    "\n",
    "from keras.layers import Dot, Dense, Reshape, Embedding, Input\n",
    "from keras.models import Model\n",
    "from keras.models import Sequential"
   ]
  },
  {
   "cell_type": "markdown",
   "metadata": {},
   "source": [
    "## 語彙sizeと、embedding size決定"
   ]
  },
  {
   "cell_type": "code",
   "execution_count": 27,
   "metadata": {},
   "outputs": [],
   "source": [
    "vocab_size = 5000\n",
    "embed_size = 300"
   ]
  },
  {
   "cell_type": "code",
   "execution_count": 38,
   "metadata": {},
   "outputs": [],
   "source": [
    "x0 = Input(shape=(1,))\n",
    "y0 = Embedding(vocab_size, embed_size,\n",
    "               embeddings_initializer='glorot_uniform')(x0)\n",
    "y0 = Reshape((embed_size,))(y0)\n",
    "word_embedder = Model(x0, y0)\n",
    "# 文脈語ID --> 文脈語数値ベクトル表現\n",
    "x1 = Input(shape=(1,))\n",
    "y1 = Embedding(vocab_size, embed_size,\n",
    "               embeddings_initializer='glorot_uniform')(x1)\n",
    "y1 = Reshape((embed_size,))(y1)\n",
    "context_embedder = Model(x1, y1)\n",
    "# 内積 --> ロジスティック回帰\n",
    "y = Dot(axes=-1)([y0, y1])\n",
    "y = Dense(1, kernel_initializer='glorot_uniform', activation='sigmoid')(y)\n",
    "model = Model(inputs=[x0, x1], outputs=y)\n",
    "model.compile(loss='mean_squared_error', optimizer='adam')"
   ]
  },
  {
   "cell_type": "markdown",
   "metadata": {},
   "source": [
    "http://cookie-box.hatenablog.com/entry/2018/10/14/184801"
   ]
  },
  {
   "cell_type": "code",
   "execution_count": 39,
   "metadata": {},
   "outputs": [
    {
     "name": "stdout",
     "output_type": "stream",
     "text": [
      "Model: \"model_6\"\n",
      "__________________________________________________________________________________________________\n",
      "Layer (type)                    Output Shape         Param #     Connected to                     \n",
      "==================================================================================================\n",
      "input_5 (InputLayer)            (None, 1)            0                                            \n",
      "__________________________________________________________________________________________________\n",
      "input_6 (InputLayer)            (None, 1)            0                                            \n",
      "__________________________________________________________________________________________________\n",
      "embedding_38 (Embedding)        (None, 1, 300)       1500000     input_5[0][0]                    \n",
      "__________________________________________________________________________________________________\n",
      "embedding_39 (Embedding)        (None, 1, 300)       1500000     input_6[0][0]                    \n",
      "__________________________________________________________________________________________________\n",
      "reshape_38 (Reshape)            (None, 300)          0           embedding_38[0][0]               \n",
      "__________________________________________________________________________________________________\n",
      "reshape_39 (Reshape)            (None, 300)          0           embedding_39[0][0]               \n",
      "__________________________________________________________________________________________________\n",
      "dot_9 (Dot)                     (None, 1)            0           reshape_38[0][0]                 \n",
      "                                                                 reshape_39[0][0]                 \n",
      "__________________________________________________________________________________________________\n",
      "dense_2 (Dense)                 (None, 1)            2           dot_9[0][0]                      \n",
      "==================================================================================================\n",
      "Total params: 3,000,002\n",
      "Trainable params: 3,000,002\n",
      "Non-trainable params: 0\n",
      "__________________________________________________________________________________________________\n"
     ]
    }
   ],
   "source": [
    "model.summary()"
   ]
  },
  {
   "cell_type": "code",
   "execution_count": 40,
   "metadata": {},
   "outputs": [],
   "source": [
    "from keras.preprocessing.text import Tokenizer, text_to_word_sequence\n",
    "from keras.preprocessing.sequence import skipgrams"
   ]
  },
  {
   "cell_type": "code",
   "execution_count": 41,
   "metadata": {},
   "outputs": [],
   "source": [
    "text = \"I love green eggs and ham .\"\n",
    "\n",
    "tokenizer = Tokenizer()\n",
    "tokenizer.fit_on_texts([text])"
   ]
  },
  {
   "cell_type": "code",
   "execution_count": 42,
   "metadata": {},
   "outputs": [],
   "source": [
    "word2id = tokenizer.word_index\n",
    "id2word = {v: k for k, v in word2id.items()}"
   ]
  },
  {
   "cell_type": "code",
   "execution_count": 43,
   "metadata": {},
   "outputs": [
    {
     "name": "stdout",
     "output_type": "stream",
     "text": [
      "20 20\n",
      "(eggs (4), eggs (4)) -> 0\n",
      "(green (3), love (2)) -> 1\n",
      "(and (5), eggs (4)) -> 0\n",
      "(love (2), green (3)) -> 1\n",
      "(i (1), i (1)) -> 0\n",
      "(eggs (4), green (3)) -> 1\n",
      "(eggs (4), and (5)) -> 0\n",
      "(love (2), i (1)) -> 1\n",
      "(green (3), eggs (4)) -> 1\n",
      "(love (2), love (2)) -> 0\n"
     ]
    }
   ],
   "source": [
    "wids = [word2id[w] for w in text_to_word_sequence(text)]\n",
    "pairs, labels = skipgrams(wids, len(word2id), window_size=1)\n",
    "print(len(pairs), len(labels))\n",
    "for i in range(10):\n",
    "    print(\"({:s} ({:d}), {:s} ({:d})) -> {:d}\".format(\n",
    "        id2word[pairs[i][0]], pairs[i][0], \n",
    "        id2word[pairs[i][1]], pairs[i][1],\n",
    "        labels[i]))"
   ]
  },
  {
   "cell_type": "code",
   "execution_count": null,
   "metadata": {},
   "outputs": [],
   "source": []
  }
 ],
 "metadata": {
  "kernelspec": {
   "display_name": "Python 3",
   "language": "python",
   "name": "python3"
  },
  "language_info": {
   "codemirror_mode": {
    "name": "ipython",
    "version": 3
   },
   "file_extension": ".py",
   "mimetype": "text/x-python",
   "name": "python",
   "nbconvert_exporter": "python",
   "pygments_lexer": "ipython3",
   "version": "3.7.4"
  }
 },
 "nbformat": 4,
 "nbformat_minor": 2
}
