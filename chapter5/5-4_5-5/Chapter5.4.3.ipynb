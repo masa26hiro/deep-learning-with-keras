{
 "cells": [
  {
   "cell_type": "code",
   "execution_count": 1,
   "metadata": {},
   "outputs": [
    {
     "name": "stderr",
     "output_type": "stream",
     "text": [
      "Using TensorFlow backend.\n"
     ]
    }
   ],
   "source": [
    "import os\n",
    "import collections\n",
    "\n",
    "from gensim.models import KeyedVectors\n",
    "from keras.callbacks import TensorBoard\n",
    "from keras.layers import Dense, Dropout, Conv1D, Embedding, GlobalMaxPooling1D\n",
    "from keras.models import Sequential\n",
    "from keras.preprocessing.sequence import pad_sequences\n",
    "from keras.utils import np_utils\n",
    "from sklearn.model_selection import train_test_split\n",
    "import matplotlib.pyplot as plt\n",
    "import nltk\n",
    "import numpy as np\n",
    "import codecs\n",
    "\n",
    "np.random.seed(42)\n",
    "\n",
    "INPUT_FILE = os.path.join(os.path.dirname(\"__file__\"),\n",
    "                          \"data/training.txt\")\n",
    "GLOVE_MODEL = os.path.join(os.path.dirname(\"__file__\"),\n",
    "                           \"data/glove.6b.300d.txt\")\n",
    "LOG_DIR = os.path.join(os.path.dirname(\"__file__\"), \"logs\")\n",
    "VOCAB_SIZE = 5000\n",
    "EMBED_SIZE = 300\n",
    "NUM_FILTERS = 256\n",
    "NUM_WORDS = 3\n",
    "BATCH_SIZE = 64\n",
    "# 事前学習済みモデルを使用するため早く収束する\n",
    "NUM_EPOCHS = 10"
   ]
  },
  {
   "cell_type": "code",
   "execution_count": 2,
   "metadata": {},
   "outputs": [],
   "source": [
    "counter = collections.Counter()\n",
    "# file open\n",
    "with codecs.open(INPUT_FILE, \"r\", encoding=\"utf-8\") as fin:\n",
    "    maxlen = 0\n",
    "    for line in fin:\n",
    "        # 行をtabでsplit\n",
    "        _, sent = line.strip().split(\"\\t\")\n",
    "        try:\n",
    "            # NLTK(Natural Language Toolkit)で単語分割\n",
    "            words = [x.lower() for x in nltk.word_tokenize(sent)]\n",
    "        except LookupError:\n",
    "            print(\"English tokenize does not downloaded. So download it.\")\n",
    "            nltk.download(\"punkt\")\n",
    "            words = [x.lower() for x in nltk.word_tokenize(sent)]\n",
    "        maxlen = max(maxlen, len(words))\n",
    "        for word in words:\n",
    "            # 単語ごとでカウント\n",
    "            counter[word] += 1\n",
    "            # int型でdictionaryを初期化\n",
    "            word2index = collections.defaultdict(int)\n",
    "            # 出現回数が多い順に（文字, 回数）のタプル5000個に対して単語IDを定義\n",
    "            for wid, word in enumerate(counter.most_common(VOCAB_SIZE)):\n",
    "                word2index[word[0]] = wid + 1\n",
    "            vocab_sz = len(word2index) + 1\n",
    "            index2word = {v: k for k, v in word2index.items()}"
   ]
  },
  {
   "cell_type": "code",
   "execution_count": 3,
   "metadata": {},
   "outputs": [],
   "source": [
    "xs, ys = [], []\n",
    "with codecs.open(INPUT_FILE, \"r\", encoding=\"utf-8\") as fin:\n",
    "    for line in fin:\n",
    "        label, sent = line.strip().split(\"\\t\")\n",
    "        ys.append(int(label))\n",
    "        words = [x.lower() for x in nltk.word_tokenize(sent)]\n",
    "        wids = [word2index[word] for word in words]\n",
    "        xs.append(wids)\n",
    "\n",
    "X = pad_sequences(xs, maxlen = maxlen)\n",
    "Y = np_utils.to_categorical(ys)\n",
    "\n",
    "Xtrain, Xtest, Ytrain, Ytest = train_test_split(X, Y, test_size = 0.3, random_state = 42)"
   ]
  },
  {
   "cell_type": "code",
   "execution_count": 4,
   "metadata": {},
   "outputs": [],
   "source": [
    "word2emb = {}\n",
    "# GloVeモデルから辞書を作成する\n",
    "with codecs.open(GLOVE_MODEL, \"r\", encoding=\"utf-8\") as fglove:\n",
    "    for line in fglove:\n",
    "        cols = line.strip().split()\n",
    "        word = cols[0]\n",
    "        embedding = np.array(cols[1:], dtype = \"float32\")\n",
    "        word2emb[word] = embedding"
   ]
  },
  {
   "cell_type": "code",
   "execution_count": 5,
   "metadata": {},
   "outputs": [],
   "source": [
    "embedding_weights = np.zeros((vocab_sz, EMBED_SIZE))\n",
    "for word, index in word2index.items():\n",
    "    try:\n",
    "        embedding_weights[index, :] = word2emb[word]\n",
    "    except KeyError:\n",
    "        pass"
   ]
  },
  {
   "cell_type": "code",
   "execution_count": 6,
   "metadata": {},
   "outputs": [
    {
     "name": "stderr",
     "output_type": "stream",
     "text": [
      "C:\\Users\\tetsu\\Anaconda3\\envs\\py_gpu\\lib\\site-packages\\tensorflow_core\\python\\framework\\indexed_slices.py:433: UserWarning: Converting sparse IndexedSlices to a dense Tensor of unknown shape. This may consume a large amount of memory.\n",
      "  \"Converting sparse IndexedSlices to a dense Tensor of unknown shape. \"\n"
     ]
    },
    {
     "name": "stdout",
     "output_type": "stream",
     "text": [
      "Train on 4960 samples, validate on 2126 samples\n",
      "Epoch 1/10\n",
      "4960/4960 [==============================] - 4s 740us/step - loss: 0.1280 - accuracy: 0.9454 - val_loss: 0.0331 - val_accuracy: 0.9878\n",
      "Epoch 2/10\n",
      "4960/4960 [==============================] - 3s 692us/step - loss: 0.0173 - accuracy: 0.9962 - val_loss: 0.0244 - val_accuracy: 0.9929\n",
      "Epoch 3/10\n",
      "4960/4960 [==============================] - 3s 702us/step - loss: 0.0076 - accuracy: 0.9986 - val_loss: 0.0215 - val_accuracy: 0.9920\n",
      "Epoch 4/10\n",
      "4960/4960 [==============================] - 4s 715us/step - loss: 0.0047 - accuracy: 0.9992 - val_loss: 0.0190 - val_accuracy: 0.9934\n",
      "Epoch 5/10\n",
      "4960/4960 [==============================] - 3s 702us/step - loss: 0.0031 - accuracy: 0.9992 - val_loss: 0.0189 - val_accuracy: 0.9934\n",
      "Epoch 6/10\n",
      "4960/4960 [==============================] - 3s 697us/step - loss: 0.0020 - accuracy: 0.9998 - val_loss: 0.0205 - val_accuracy: 0.9929\n",
      "Epoch 7/10\n",
      "4960/4960 [==============================] - 3s 697us/step - loss: 0.0020 - accuracy: 0.9998 - val_loss: 0.0186 - val_accuracy: 0.9934\n",
      "Epoch 8/10\n",
      "4960/4960 [==============================] - 3s 695us/step - loss: 0.0025 - accuracy: 0.9996 - val_loss: 0.0200 - val_accuracy: 0.9944\n",
      "Epoch 9/10\n",
      "4960/4960 [==============================] - 4s 720us/step - loss: 0.0029 - accuracy: 0.9996 - val_loss: 0.0187 - val_accuracy: 0.9934\n",
      "Epoch 10/10\n",
      "4960/4960 [==============================] - 3s 700us/step - loss: 0.0016 - accuracy: 0.9998 - val_loss: 0.0199 - val_accuracy: 0.9934\n",
      "2126/2126 [==============================] - 0s 169us/step\n",
      "Test score: 0.020, accuracy: 0.993\n"
     ]
    }
   ],
   "source": [
    "# ネットワークの構築\n",
    "model = Sequential()\n",
    "model.add(Embedding(vocab_sz, EMBED_SIZE, input_length = maxlen,\n",
    "                    weights = [embedding_weights],\n",
    "                    trainable = True))\n",
    "model.add(Dropout(0.2))\n",
    "model.add(Conv1D(filters = NUM_FILTERS, kernel_size = NUM_WORDS,\n",
    "                 activation = \"relu\"))\n",
    "model.add(GlobalMaxPooling1D())\n",
    "model.add(Dense(2, activation=\"softmax\"))\n",
    "\n",
    "# コンパイル\n",
    "model.compile(optimizer = \"adam\", loss=\"categorical_crossentropy\", metrics = [\"accuracy\"])\n",
    "\n",
    "history = model.fit(Xtrain, Ytrain, batch_size = BATCH_SIZE,\n",
    "                    epochs = NUM_EPOCHS,\n",
    "                    #callbacks=[TensorBoard(LOG_DIR)],\n",
    "                    validation_data = (Xtest, Ytest)\n",
    "                   )\n",
    "\n",
    "score = model.evaluate(Xtest, Ytest, verbose = 1)\n",
    "print(\"Test score: {:.3f}, accuracy: {:.3f}\".format(score[0], score[1]))"
   ]
  }
 ],
 "metadata": {
  "kernelspec": {
   "display_name": "Python 3",
   "language": "python",
   "name": "python3"
  },
  "language_info": {
   "codemirror_mode": {
    "name": "ipython",
    "version": 3
   },
   "file_extension": ".py",
   "mimetype": "text/x-python",
   "name": "python",
   "nbconvert_exporter": "python",
   "pygments_lexer": "ipython3",
   "version": "3.7.6"
  }
 },
 "nbformat": 4,
 "nbformat_minor": 2
}
