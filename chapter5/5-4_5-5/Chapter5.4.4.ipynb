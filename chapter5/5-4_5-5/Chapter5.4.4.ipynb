{
 "cells": [
  {
   "cell_type": "code",
   "execution_count": 1,
   "metadata": {},
   "outputs": [
    {
     "name": "stderr",
     "output_type": "stream",
     "text": [
      "Using TensorFlow backend.\n"
     ]
    }
   ],
   "source": [
    "import collections\n",
    "\n",
    "from keras.layers import Dense, Dropout\n",
    "from keras.models import Sequential\n",
    "from keras.preprocessing.sequence import pad_sequences\n",
    "from keras.utils import np_utils\n",
    "from sklearn.model_selection import train_test_split\n",
    "import matplotlib.pyplot as plt\n",
    "import nltk\n",
    "import numpy as np\n",
    "import codecs\n",
    "import os\n",
    "\n",
    "np.random.seed(42)\n",
    "\n",
    "INPUT_FILE = os.path.join(os.path.dirname(\"__file__\"), \"data/training.txt\")\n",
    "LOG_DIR = os.path.join(os.path.dirname(\"__file__\"), \"logs\")\n",
    "GLOVE_MODEL = os.path.join(os.path.dirname(\"__file_name\"),\n",
    "                           \"data/glove.6B.100d.txt\")\n",
    "VOCAB_SIZE = 5000\n",
    "EMBED_SIZE = 100\n",
    "BATCH_SIZE = 64\n",
    "NUM_EPOCHS = 10"
   ]
  },
  {
   "cell_type": "code",
   "execution_count": 2,
   "metadata": {},
   "outputs": [
    {
     "name": "stdout",
     "output_type": "stream",
     "text": [
      "reading data...\n",
      "creating vocabulary...\n",
      "creating word sequences...\n"
     ]
    }
   ],
   "source": [
    "print(\"reading data...\")\n",
    "counter = collections.Counter()\n",
    "with codecs.open(INPUT_FILE, \"r\", encoding=\"utf-8\") as fin:\n",
    "    maxlen = 0\n",
    "    for line in fin:\n",
    "        _, sent = line.strip().split(\"\\t\")\n",
    "        try:\n",
    "            words = [x.lower() for x in nltk.word_tokenize(sent)]\n",
    "        except LookupError:\n",
    "            print(\"English tokenize does not downloaded. So down load it.\")\n",
    "            nltk.download(\"punkt\")\n",
    "            words = [x.lower() for x in nltk.word_tokenize(sent)]\n",
    "        if len(words) > maxlen:\n",
    "            maxlen = len(words)\n",
    "        for word in words:\n",
    "            counter[word] += 1\n",
    "\n",
    "print(\"creating vocabulary...\")\n",
    "word2index = collections.defaultdict(int)\n",
    "for wid, word in enumerate(counter.most_common(VOCAB_SIZE)):\n",
    "    word2index[word[0]] = wid + 1\n",
    "vocab_sz = len(word2index) + 1\n",
    "index2word = {v: k for k, v in word2index.items()}\n",
    "index2word[0] = \"_UNK_\"\n",
    "\n",
    "print(\"creating word sequences...\")\n",
    "ws, ys = [], []\n",
    "with codecs.open(INPUT_FILE, \"r\", encoding=\"utf-8\") as fin:\n",
    "    for line in fin:\n",
    "        label, sent = line.strip().split(\"\\t\")\n",
    "        ys.append(int(label))\n",
    "        words = [x.lower() for x in nltk.word_tokenize(sent)]\n",
    "        wids = [word2index[word] for word in words]\n",
    "        ws.append(wids)\n",
    "\n",
    "W = pad_sequences(ws, maxlen=maxlen)\n",
    "Y = np_utils.to_categorical(ys)"
   ]
  },
  {
   "cell_type": "code",
   "execution_count": 3,
   "metadata": {},
   "outputs": [],
   "source": [
    "word2emb = collections.defaultdict(int)\n",
    "with codecs.open(GLOVE_MODEL, \"r\", encoding=\"utf-8\") as fglove:\n",
    "    for line in fglove:\n",
    "        cols = line.strip().split()\n",
    "        word = cols[0]\n",
    "        embedding = np.array(cols[1:], dtype=\"float32\")\n",
    "        word2emb[word] = embedding\n",
    "\n",
    "X = np.zeros((W.shape[0], EMBED_SIZE))\n",
    "for i in range(W.shape[0]):\n",
    "    E = np.zeros((EMBED_SIZE, maxlen))\n",
    "    words = [index2word[wid] for wid in W[i].tolist()]\n",
    "    for j in range(maxlen):\n",
    "        E[:, j] = word2emb[words[j]]\n",
    "    X[i, :] = np.sum(E, axis=1)"
   ]
  },
  {
   "cell_type": "code",
   "execution_count": 4,
   "metadata": {},
   "outputs": [
    {
     "name": "stdout",
     "output_type": "stream",
     "text": [
      "Train on 4960 samples, validate on 2126 samples\n",
      "Epoch 1/10\n",
      "4960/4960 [==============================] - 0s 47us/step - loss: 1.4291 - accuracy: 0.6135 - val_loss: 0.3455 - val_accuracy: 0.8989\n",
      "Epoch 2/10\n",
      "4960/4960 [==============================] - 0s 20us/step - loss: 0.3479 - accuracy: 0.8748 - val_loss: 0.2283 - val_accuracy: 0.9384\n",
      "Epoch 3/10\n",
      "4960/4960 [==============================] - 0s 19us/step - loss: 0.2246 - accuracy: 0.9306 - val_loss: 0.1890 - val_accuracy: 0.9525\n",
      "Epoch 4/10\n",
      "4960/4960 [==============================] - 0s 18us/step - loss: 0.1729 - accuracy: 0.9522 - val_loss: 0.1512 - val_accuracy: 0.9586\n",
      "Epoch 5/10\n",
      "4960/4960 [==============================] - 0s 18us/step - loss: 0.1425 - accuracy: 0.9601 - val_loss: 0.1304 - val_accuracy: 0.9586\n",
      "Epoch 6/10\n",
      "4960/4960 [==============================] - 0s 20us/step - loss: 0.1289 - accuracy: 0.9641 - val_loss: 0.1283 - val_accuracy: 0.9600\n",
      "Epoch 7/10\n",
      "4960/4960 [==============================] - 0s 18us/step - loss: 0.1130 - accuracy: 0.9694 - val_loss: 0.1222 - val_accuracy: 0.9633\n",
      "Epoch 8/10\n",
      "4960/4960 [==============================] - 0s 19us/step - loss: 0.1023 - accuracy: 0.9722 - val_loss: 0.1113 - val_accuracy: 0.9661\n",
      "Epoch 9/10\n",
      "4960/4960 [==============================] - 0s 19us/step - loss: 0.1009 - accuracy: 0.9714 - val_loss: 0.1092 - val_accuracy: 0.9671\n",
      "Epoch 10/10\n",
      "4960/4960 [==============================] - 0s 19us/step - loss: 0.0893 - accuracy: 0.9738 - val_loss: 0.1015 - val_accuracy: 0.9694\n",
      "2126/2126 [==============================] - 0s 11us/step\n",
      "Test score: 0.102, accuracy: 0.969\n"
     ]
    }
   ],
   "source": [
    "Xtrain, Xtest, Ytrain, Ytest = train_test_split(X, Y, test_size=0.3, random_state=42)\n",
    "\n",
    "model = Sequential()\n",
    "model.add(Dense(32, input_dim=EMBED_SIZE, activation=\"relu\"))\n",
    "model.add(Dropout(0.2))\n",
    "model.add(Dense(2, activation=\"softmax\"))\n",
    "\n",
    "model.compile(optimizer=\"adam\", loss=\"categorical_crossentropy\",\n",
    "              metrics=[\"accuracy\"])\n",
    "history = model.fit(Xtrain, Ytrain, batch_size=BATCH_SIZE,\n",
    "                    epochs=NUM_EPOCHS,\n",
    "                    validation_data=(Xtest, Ytest))\n",
    "\n",
    "score = model.evaluate(Xtest, Ytest, verbose=1)\n",
    "print(\"Test score: {:.3f}, accuracy: {:.3f}\".format(score[0], score[1]))"
   ]
  }
 ],
 "metadata": {
  "kernelspec": {
   "display_name": "Python 3",
   "language": "python",
   "name": "python3"
  },
  "language_info": {
   "codemirror_mode": {
    "name": "ipython",
    "version": 3
   },
   "file_extension": ".py",
   "mimetype": "text/x-python",
   "name": "python",
   "nbconvert_exporter": "python",
   "pygments_lexer": "ipython3",
   "version": "3.7.6"
  }
 },
 "nbformat": 4,
 "nbformat_minor": 2
}
