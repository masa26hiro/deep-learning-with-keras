{
 "cells": [
  {
   "cell_type": "code",
   "execution_count": 1,
   "metadata": {},
   "outputs": [
    {
     "name": "stderr",
     "output_type": "stream",
     "text": [
      "Using TensorFlow backend.\n"
     ]
    }
   ],
   "source": [
    "import collections\n",
    "\n",
    "from keras.layers import Dense, Dropout\n",
    "from keras.models import Sequential\n",
    "from keras.preprocessing.sequence import pad_sequences\n",
    "from keras.utils import np_utils\n",
    "from sklearn.model_selection import train_test_split\n",
    "import matplotlib.pyplot as plt\n",
    "import nltk\n",
    "import numpy as np\n",
    "import codecs\n",
    "import os\n",
    "\n",
    "np.random.seed(42)\n",
    "\n",
    "INPUT_FILE = os.path.join(os.path.dirname(\"__file__\"), \"data/training.txt\")\n",
    "LOG_DIR = os.path.join(os.path.dirname(\"__file__\"), \"logs\")\n",
    "GLOVE_MODEL = os.path.join(os.path.dirname(\"__file_name\"),\n",
    "                           \"data/glove.6B.100d.txt\")\n",
    "VOCAB_SIZE = 5000\n",
    "EMBED_SIZE = 100\n",
    "BATCH_SIZE = 64\n",
    "NUM_EPOCHS = 10"
   ]
  },
  {
   "cell_type": "code",
   "execution_count": 2,
   "metadata": {},
   "outputs": [
    {
     "name": "stdout",
     "output_type": "stream",
     "text": [
      "reading data...\n",
      "creating vocabulary...\n",
      "creating word sequences...\n"
     ]
    }
   ],
   "source": [
    "print(\"reading data...\")\n",
    "counter = collections.Counter()\n",
    "with codecs.open(INPUT_FILE, \"r\", encoding=\"utf-8\") as fin:\n",
    "    maxlen = 0\n",
    "    for line in fin:\n",
    "        _, sent = line.strip().split(\"\\t\")\n",
    "        try:\n",
    "            words = [x.lower() for x in nltk.word_tokenize(sent)]\n",
    "        except LookupError:\n",
    "            print(\"English tokenize does not downloaded. So down load it.\")\n",
    "            nltk.download(\"punkt\")\n",
    "            words = [x.lower() for x in nltk.word_tokenize(sent)]\n",
    "        if len(words) > maxlen:\n",
    "            maxlen = len(words)\n",
    "        for word in words:\n",
    "            counter[word] += 1\n",
    "\n",
    "print(\"creating vocabulary...\")\n",
    "word2index = collections.defaultdict(int)\n",
    "for wid, word in enumerate(counter.most_common(VOCAB_SIZE)):\n",
    "    word2index[word[0]] = wid + 1\n",
    "vocab_sz = len(word2index) + 1\n",
    "index2word = {v: k for k, v in word2index.items()}\n",
    "index2word[0] = \"_UNK_\"\n",
    "\n",
    "print(\"creating word sequences...\")\n",
    "ws, ys = [], []\n",
    "with codecs.open(INPUT_FILE, \"r\", encoding=\"utf-8\") as fin:\n",
    "    for line in fin:\n",
    "        label, sent = line.strip().split(\"\\t\")\n",
    "        ys.append(int(label))\n",
    "        words = [x.lower() for x in nltk.word_tokenize(sent)]\n",
    "        wids = [word2index[word] for word in words]\n",
    "        ws.append(wids)\n",
    "\n",
    "W = pad_sequences(ws, maxlen=maxlen)\n",
    "Y = np_utils.to_categorical(ys)"
   ]
  },
  {
   "cell_type": "code",
   "execution_count": 3,
   "metadata": {},
   "outputs": [],
   "source": [
    "word2emb = collections.defaultdict(int)\n",
    "with codecs.open(GLOVE_MODEL, \"r\", encoding=\"utf-8\") as fglove:\n",
    "    for line in fglove:\n",
    "        cols = line.strip().split()\n",
    "        word = cols[0]\n",
    "        embedding = np.array(cols[1:], dtype=\"float32\")\n",
    "        word2emb[word] = embedding\n",
    "\n",
    "X = np.zeros((W.shape[0], EMBED_SIZE))\n",
    "for i in range(W.shape[0]):\n",
    "    E = np.zeros((EMBED_SIZE, maxlen))\n",
    "    words = [index2word[wid] for wid in W[i].tolist()]\n",
    "    for j in range(maxlen):\n",
    "        E[:, j] = word2emb[words[j]]\n",
    "    X[i, :] = np.sum(E, axis=1)"
   ]
  },
  {
   "cell_type": "code",
   "execution_count": 4,
   "metadata": {},
   "outputs": [
    {
     "ename": "NameError",
     "evalue": "name 'TensorBoard' is not defined",
     "output_type": "error",
     "traceback": [
      "\u001b[1;31m---------------------------------------------------------------------------\u001b[0m",
      "\u001b[1;31mNameError\u001b[0m                                 Traceback (most recent call last)",
      "\u001b[1;32m<ipython-input-4-4804acd0faf9>\u001b[0m in \u001b[0;36m<module>\u001b[1;34m\u001b[0m\n\u001b[0;32m     10\u001b[0m history = model.fit(Xtrain, Ytrain, batch_size=BATCH_SIZE,\n\u001b[0;32m     11\u001b[0m                     \u001b[0mepochs\u001b[0m\u001b[1;33m=\u001b[0m\u001b[0mNUM_EPOCHS\u001b[0m\u001b[1;33m,\u001b[0m\u001b[1;33m\u001b[0m\u001b[1;33m\u001b[0m\u001b[0m\n\u001b[1;32m---> 12\u001b[1;33m                     \u001b[0mcallbacks\u001b[0m\u001b[1;33m=\u001b[0m\u001b[1;33m[\u001b[0m\u001b[0mTensorBoard\u001b[0m\u001b[1;33m(\u001b[0m\u001b[0mLOG_DIR\u001b[0m\u001b[1;33m)\u001b[0m\u001b[1;33m]\u001b[0m\u001b[1;33m,\u001b[0m\u001b[1;33m\u001b[0m\u001b[1;33m\u001b[0m\u001b[0m\n\u001b[0m\u001b[0;32m     13\u001b[0m                     validation_data=(Xtest, Ytest))\n\u001b[0;32m     14\u001b[0m \u001b[1;33m\u001b[0m\u001b[0m\n",
      "\u001b[1;31mNameError\u001b[0m: name 'TensorBoard' is not defined"
     ]
    }
   ],
   "source": [
    "Xtrain, Xtest, Ytrain, Ytest = train_test_split(X, Y, test_size=0.3, random_state=42)\n",
    "\n",
    "model = Sequential()\n",
    "model.add(Dense(32, input_dim=EMBED_SIZE, activation=\"relu\"))\n",
    "model.add(Dropout(0.2))\n",
    "model.add(Dense(2, activation=\"softmax\"))\n",
    "\n",
    "model.compile(optimizer=\"adam\", loss=\"categorical_crossentropy\",\n",
    "              metrics=[\"accuracy\"])\n",
    "history = model.fit(Xtrain, Ytrain, batch_size=BATCH_SIZE,\n",
    "                    epochs=NUM_EPOCHS,\n",
    "                    validation_data=(Xtest, Ytest))\n",
    "\n",
    "score = model.evaluate(Xtest, Ytest, verbose=1)\n",
    "print(\"Test score: {:.3f}, accuracy: {:.3f}\".format(score[0], score[1]))"
   ]
  }
 ],
 "metadata": {
  "kernelspec": {
   "display_name": "Python 3",
   "language": "python",
   "name": "python3"
  },
  "language_info": {
   "codemirror_mode": {
    "name": "ipython",
    "version": 3
   },
   "file_extension": ".py",
   "mimetype": "text/x-python",
   "name": "python",
   "nbconvert_exporter": "python",
   "pygments_lexer": "ipython3",
   "version": "3.7.6"
  }
 },
 "nbformat": 4,
 "nbformat_minor": 2
}
