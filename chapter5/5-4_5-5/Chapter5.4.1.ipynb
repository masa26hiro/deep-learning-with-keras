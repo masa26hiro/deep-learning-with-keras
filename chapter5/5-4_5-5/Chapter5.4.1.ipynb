{
 "cells": [
  {
   "cell_type": "code",
   "execution_count": 1,
   "metadata": {},
   "outputs": [
    {
     "name": "stderr",
     "output_type": "stream",
     "text": [
      "Using TensorFlow backend.\n"
     ]
    }
   ],
   "source": [
    "import os\n",
    "import collections\n",
    "\n",
    "from keras.callbacks import TensorBoard\n",
    "from keras.layers import Dense, Dropout, Conv1D, Embedding, GlobalMaxPooling1D\n",
    "from keras.models import Sequential\n",
    "from keras.preprocessing.sequence import pad_sequences\n",
    "from keras.utils import np_utils\n",
    "from sklearn.model_selection import train_test_split\n",
    "import matplotlib.pyplot as plt\n",
    "import nltk\n",
    "import numpy as np\n",
    "import codecs\n",
    "\n",
    "np.random.seed(42)\n",
    "\n",
    "INPUT_FILE = os.path.join(os.path.dirname(\"__file__\"),\n",
    "                          \"data/training.txt\")\n",
    "LOG_DIR = os.path.join(os.path.dirname(\"__file__\"), \"logs\")\n",
    "VOCAB_SIZE = 5000\n",
    "EMBED_SIZE = 100\n",
    "NUM_FILTERS = 256\n",
    "NUM_WORDS = 3\n",
    "BATCH_SIZE = 64\n",
    "NUM_EPOCHS = 20"
   ]
  },
  {
   "cell_type": "code",
   "execution_count": 2,
   "metadata": {},
   "outputs": [],
   "source": [
    "counter = collections.Counter()\n",
    "# file open\n",
    "with codecs.open(INPUT_FILE, \"r\", encoding=\"utf-8\") as fin:\n",
    "    maxlen = 0\n",
    "    for line in fin:\n",
    "        # 行をtabでsplit\n",
    "        _, sent = line.strip().split(\"\\t\")\n",
    "        try:\n",
    "            # NLTK(Natural Language Toolkit)で単語分割\n",
    "            words = [x.lower() for x in nltk.word_tokenize(sent)]\n",
    "        except LookupError:\n",
    "            print(\"English tokenize does not downloaded. So download it.\")\n",
    "            nltk.download(\"punkt\")\n",
    "            words = [x.lower() for x in nltk.word_tokenize(sent)]\n",
    "        maxlen = max(maxlen, len(words))\n",
    "        for word in words:\n",
    "            # 単語ごとでカウント\n",
    "            counter[word] += 1\n",
    "            # int型でdictionaryを初期化\n",
    "            word2index = collections.defaultdict(int)\n",
    "            # 出現回数が多い順に（文字, 回数）のタプル5000個に対して単語IDを定義\n",
    "            for wid, word in enumerate(counter.most_common(VOCAB_SIZE)):\n",
    "                word2index[word[0]] = wid + 1\n",
    "            vocab_sz = len(word2index) + 1\n",
    "            index2word = {v: k for k, v in word2index.items()}"
   ]
  },
  {
   "cell_type": "code",
   "execution_count": 3,
   "metadata": {},
   "outputs": [],
   "source": [
    "xs, ys = [], []\n",
    "with codecs.open(INPUT_FILE, \"r\", encoding=\"utf-8\") as fin:\n",
    "    for line in fin:\n",
    "        label, sent = line.strip().split(\"\\t\")\n",
    "        ys.append(int(label))\n",
    "        words = [x.lower() for x in nltk.word_tokenize(sent)]\n",
    "        wids = [word2index[word] for word in words]\n",
    "        xs.append(wids)\n",
    "\n",
    "X = pad_sequences(xs, maxlen = maxlen)\n",
    "Y = np_utils.to_categorical(ys)"
   ]
  },
  {
   "cell_type": "code",
   "execution_count": 5,
   "metadata": {},
   "outputs": [
    {
     "name": "stderr",
     "output_type": "stream",
     "text": [
      "C:\\Users\\tetsu\\Anaconda3\\envs\\py_gpu\\lib\\site-packages\\tensorflow_core\\python\\framework\\indexed_slices.py:433: UserWarning: Converting sparse IndexedSlices to a dense Tensor of unknown shape. This may consume a large amount of memory.\n",
      "  \"Converting sparse IndexedSlices to a dense Tensor of unknown shape. \"\n"
     ]
    },
    {
     "name": "stdout",
     "output_type": "stream",
     "text": [
      "Train on 4960 samples, validate on 2126 samples\n",
      "Epoch 1/20\n",
      "4960/4960 [==============================] - 2s 328us/step - loss: 0.2984 - accuracy: 0.8782 - val_loss: 0.0401 - val_accuracy: 0.9845\n",
      "Epoch 2/20\n",
      "4960/4960 [==============================] - 1s 274us/step - loss: 0.0223 - accuracy: 0.9935 - val_loss: 0.0226 - val_accuracy: 0.9925\n",
      "Epoch 3/20\n",
      "4960/4960 [==============================] - 1s 272us/step - loss: 0.0075 - accuracy: 0.9982 - val_loss: 0.0180 - val_accuracy: 0.9929\n",
      "Epoch 4/20\n",
      "4960/4960 [==============================] - 1s 268us/step - loss: 0.0034 - accuracy: 0.9996 - val_loss: 0.0168 - val_accuracy: 0.9953\n",
      "Epoch 5/20\n",
      "4960/4960 [==============================] - 1s 266us/step - loss: 0.0016 - accuracy: 0.9998 - val_loss: 0.0176 - val_accuracy: 0.9958\n",
      "Epoch 6/20\n",
      "4960/4960 [==============================] - 1s 268us/step - loss: 0.0016 - accuracy: 0.9998 - val_loss: 0.0171 - val_accuracy: 0.9944\n",
      "Epoch 7/20\n",
      "4960/4960 [==============================] - 1s 268us/step - loss: 0.0013 - accuracy: 0.9996 - val_loss: 0.0174 - val_accuracy: 0.9948\n",
      "Epoch 8/20\n",
      "4960/4960 [==============================] - 1s 269us/step - loss: 0.0011 - accuracy: 0.9998 - val_loss: 0.0161 - val_accuracy: 0.9953\n",
      "Epoch 9/20\n",
      "4960/4960 [==============================] - 1s 270us/step - loss: 0.0015 - accuracy: 0.9996 - val_loss: 0.0167 - val_accuracy: 0.9953\n",
      "Epoch 10/20\n",
      "4960/4960 [==============================] - 1s 281us/step - loss: 0.0010 - accuracy: 0.9998 - val_loss: 0.0171 - val_accuracy: 0.9939\n",
      "Epoch 11/20\n",
      "4960/4960 [==============================] - 1s 268us/step - loss: 7.1577e-04 - accuracy: 0.9996 - val_loss: 0.0165 - val_accuracy: 0.9953\n",
      "Epoch 12/20\n",
      "4960/4960 [==============================] - 1s 268us/step - loss: 6.7165e-04 - accuracy: 0.9998 - val_loss: 0.0173 - val_accuracy: 0.9944\n",
      "Epoch 13/20\n",
      "4960/4960 [==============================] - 1s 268us/step - loss: 7.9611e-04 - accuracy: 0.9998 - val_loss: 0.0176 - val_accuracy: 0.9948\n",
      "Epoch 14/20\n",
      "4960/4960 [==============================] - 1s 269us/step - loss: 9.3678e-04 - accuracy: 0.9998 - val_loss: 0.0173 - val_accuracy: 0.9948\n",
      "Epoch 15/20\n",
      "4960/4960 [==============================] - 1s 271us/step - loss: 0.0015 - accuracy: 0.9996 - val_loss: 0.0172 - val_accuracy: 0.9948\n",
      "Epoch 16/20\n",
      "4960/4960 [==============================] - 1s 269us/step - loss: 8.6916e-04 - accuracy: 0.9998 - val_loss: 0.0182 - val_accuracy: 0.9944\n",
      "Epoch 17/20\n",
      "4960/4960 [==============================] - 1s 272us/step - loss: 7.9120e-04 - accuracy: 0.9998 - val_loss: 0.0182 - val_accuracy: 0.9953\n",
      "Epoch 18/20\n",
      "4960/4960 [==============================] - 1s 270us/step - loss: 7.5924e-04 - accuracy: 0.9998 - val_loss: 0.0188 - val_accuracy: 0.9944\n",
      "Epoch 19/20\n",
      "4960/4960 [==============================] - 1s 269us/step - loss: 0.0013 - accuracy: 0.9996 - val_loss: 0.0184 - val_accuracy: 0.9948\n",
      "Epoch 20/20\n",
      "4960/4960 [==============================] - 1s 272us/step - loss: 0.0012 - accuracy: 0.9996 - val_loss: 0.0192 - val_accuracy: 0.9953\n"
     ]
    }
   ],
   "source": [
    "Xtrain, Xtest, Ytrain, Ytest = train_test_split(X, Y, test_size = 0.3, random_state = 42)\n",
    "\n",
    "# ネットワークの作成\n",
    "model = Sequential()\n",
    "model.add(Embedding(vocab_sz, EMBED_SIZE, input_length = maxlen))\n",
    "model.add(Dropout(0.2))\n",
    "model.add(Conv1D(filters = NUM_FILTERS, kernel_size = NUM_WORDS, activation=\"relu\"))\n",
    "model.add(GlobalMaxPooling1D())\n",
    "model.add(Dense(2, activation = \"softmax\"))\n",
    "\n",
    "# コンパイル\n",
    "model.compile(optimizer = \"adam\", loss=\"categorical_crossentropy\", metrics = [\"accuracy\"])\n",
    "history = model.fit(Xtrain, Ytrain, batch_size = BATCH_SIZE,\n",
    "                    epochs = NUM_EPOCHS,\n",
    "                    # エラーになるのでコメントアウト\n",
    "                    # callbacks = [TensorBoard(LOG_DIR)],\n",
    "                    validation_data = (Xtest, Ytest))"
   ]
  },
  {
   "cell_type": "code",
   "execution_count": null,
   "metadata": {},
   "outputs": [],
   "source": []
  }
 ],
 "metadata": {
  "kernelspec": {
   "display_name": "Python 3",
   "language": "python",
   "name": "python3"
  },
  "language_info": {
   "codemirror_mode": {
    "name": "ipython",
    "version": 3
   },
   "file_extension": ".py",
   "mimetype": "text/x-python",
   "name": "python",
   "nbconvert_exporter": "python",
   "pygments_lexer": "ipython3",
   "version": "3.7.6"
  }
 },
 "nbformat": 4,
 "nbformat_minor": 2
}
