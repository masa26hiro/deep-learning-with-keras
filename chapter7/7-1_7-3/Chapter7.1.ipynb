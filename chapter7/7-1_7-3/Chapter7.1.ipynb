{
 "cells": [
  {
   "cell_type": "markdown",
   "metadata": {},
   "source": [
    "# Sequential model API を使ったモデル定義"
   ]
  },
  {
   "cell_type": "code",
   "execution_count": null,
   "metadata": {},
   "outputs": [],
   "source": [
    "from keras.models import Sequential\n",
    "from keras.layers import Dense, Activation\n",
    "\n",
    "# Sequential model API を使った単一パイプラインのモデル\n",
    "model = Sequential([\n",
    "    Dense(32, input_shape=(784,)),\n",
    "    Activation('relu'),\n",
    "    Dense(10),\n",
    "    Activation('softmax'),\n",
    "])"
   ]
  },
  {
   "cell_type": "markdown",
   "metadata": {},
   "source": [
    "# functional API を使ったモデル定義"
   ]
  },
  {
   "cell_type": "code",
   "execution_count": null,
   "metadata": {},
   "outputs": [],
   "source": [
    "from keras.layers import Input, Dense, Activation\n",
    "from keras.models import Model\n",
    "\n",
    "# (None, 784) の行列を入力として定義\n",
    "x = Input(shape=(784,))\n",
    "# 32次元の全結合層\n",
    "g = Dense(32)\n",
    "# relu層\n",
    "s_2 = Activation('relu')\n",
    "# 10次元の全結合層\n",
    "f = Dense(10)\n",
    "# softmax層\n",
    "s_K = Activation('softmax')\n",
    "\n",
    "# 関数が入れ子にしてSequenceを作成\n",
    "y = s_K(f(s_2(g(x))))\n",
    "\n",
    "# モデルを構築\n",
    "model = Model(inputs=x, outputs=y)\n",
    "model.compile(loss=\"categorical_crossentropy\", optimizer=\"adam\")"
   ]
  }
 ],
 "metadata": {
  "kernelspec": {
   "display_name": "Python 3",
   "language": "python",
   "name": "python3"
  },
  "language_info": {
   "codemirror_mode": {
    "name": "ipython",
    "version": 3
   },
   "file_extension": ".py",
   "mimetype": "text/x-python",
   "name": "python",
   "nbconvert_exporter": "python",
   "pygments_lexer": "ipython3",
   "version": "3.7.6"
  }
 },
 "nbformat": 4,
 "nbformat_minor": 2
}
