{
 "cells": [
  {
   "cell_type": "code",
   "execution_count": 1,
   "metadata": {},
   "outputs": [],
   "source": [
    "import os\n",
    "import urllib.request\n",
    "from zipfile import ZipFile\n",
    "from tensorflow.keras.layers import Input\n",
    "from tensorflow.keras.layers import Dense\n",
    "from tensorflow.keras.models import Model\n",
    "from tensorflow.keras.callbacks import TensorBoard\n",
    "from sklearn.preprocessing import StandardScaler\n",
    "from sklearn.model_selection import train_test_split\n",
    "import matplotlib.pyplot as plt\n",
    "import pandas as pd"
   ]
  },
  {
   "cell_type": "code",
   "execution_count": 2,
   "metadata": {},
   "outputs": [],
   "source": [
    "# データセットのダウンロード\n",
    "def download_data():\n",
    "    url = \"https://archive.ics.uci.edu/ml/machine-learning-databases/00360/\"\n",
    "    zip_file = \"AirQualityUCI.zip\"\n",
    "    file_name = \"AirQualityUCI.csv\"\n",
    "    data_root = os.path.join(os.path.dirname(\"__file__\"), \"data\")\n",
    "    file_path = os.path.join(data_root, file_name)\n",
    "    \n",
    "    if not os.path.isfile(file_path):\n",
    "        print(\"Download the data for regression...\")\n",
    "        url += zip_file\n",
    "        zip_path = os.path.join(data_root, zip_file)\n",
    "        urllib.request.urlretrieve(url, zip_path)\n",
    "        with ZipFile(zip_path) as z:\n",
    "            z.extract(file_name, data_root)\n",
    "        os.remove(zip_path)\n",
    "    \n",
    "    return file_path"
   ]
  },
  {
   "cell_type": "code",
   "execution_count": 3,
   "metadata": {},
   "outputs": [],
   "source": [
    "# データセットのロード\n",
    "def load_dataset(file_path):\n",
    "    # separated by semicolon , comma is used for decimal\n",
    "    dataset = pd.read_csv(file_path, sep=\";\", decimal=\",\")\n",
    "    \n",
    "    # Drop nameless columns\n",
    "    unnamed = [c for c in dataset.columns if \"Unnamed\" in c]\n",
    "    dataset.drop(unnamed, axis=1, inplace=True)\n",
    "    \n",
    "    # Drop unused columns\n",
    "    dataset.drop([\"Date\", \"Time\"], axis=1, inplace=True)\n",
    "    \n",
    "    # Fill NaN by its column mean\n",
    "    dataset.fillna(dataset.mean(), inplace=True)\n",
    "    \n",
    "    # Separate the data to label and feaatures\n",
    "    x = dataset.drop([\"C6H6(GT)\"], axis=1).values\n",
    "    y = dataset[\"C6H6(GT)\"].values.reshape(-1, 1) # get benzene values\n",
    "    return x, y"
   ]
  },
  {
   "cell_type": "code",
   "execution_count": 4,
   "metadata": {},
   "outputs": [],
   "source": [
    "# モデルの生成\n",
    "def make_model(input_size):\n",
    "    inputs = Input(shape=(input_size,))\n",
    "    hidden = Dense(8, activation=\"relu\", kernel_initializer=\"glorot_uniform\")\n",
    "    output = Dense(1, kernel_initializer=\"glorot_uniform\")\n",
    "    \n",
    "    pred = output(hidden(inputs))\n",
    "    model = Model(inputs=[inputs], outputs=[pred])\n",
    "    return model"
   ]
  },
  {
   "cell_type": "code",
   "execution_count": 5,
   "metadata": {},
   "outputs": [],
   "source": [
    "def main():\n",
    "    file_path = download_data()\n",
    "    X, y = load_dataset(file_path)\n",
    "    \n",
    "    # Normalize the numerical values\n",
    "    # scikit-learn の StandardScaler\n",
    "    yScaler = StandardScaler()\n",
    "    xScaler = StandardScaler()\n",
    "    # 正規化(markdownへ...)\n",
    "    y = yScaler.fit_transform(y)\n",
    "    X = xScaler.fit_transform(X)\n",
    "    \n",
    "    # Split the data to train and test\n",
    "    # 30%を評価用データとして使用\n",
    "    X_train, X_test, y_train, y_test = train_test_split(X, y, test_size=0.3)\n",
    "    \n",
    "    # Make model\n",
    "    input_size = X.shape[1] # number of features\n",
    "    model = make_model(input_size)\n",
    "    \n",
    "    # Train model\n",
    "    log_dir = os.path.join(os.path.dirname(\"__file__\"), \"logs\")\n",
    "    NUM_EPOCHS = 20\n",
    "    BATCH_SIZE = 10\n",
    "    model.compile(loss=\"mse\", optimizer=\"adam\")\n",
    "    model.fit(\n",
    "        X_train, y_train,\n",
    "        batch_size=BATCH_SIZE, epochs=NUM_EPOCHS,\n",
    "        validation_split=0.2,\n",
    "        callbacks=[TensorBoard(log_dir=log_dir)]\n",
    "    )\n",
    "    \n",
    "    # Make prediction\n",
    "    y_pred = model.predict(X_test)\n",
    "    \n",
    "    # Show prediction\n",
    "    y_pred = yScaler.inverse_transform(y_pred)\n",
    "    y_test = yScaler.inverse_transform(y_test)\n",
    "    result = pd.DataFrame({\n",
    "        \"prediction\": pd.Series(y_pred.flatten()),\n",
    "        \"actual\": pd.Series(y_test.flatten())\n",
    "    })\n",
    "    \n",
    "    fig, ax = plt.subplots(nrows=2)\n",
    "    ax0 = result.plot.line(ax=ax[0])\n",
    "    ax0.set(xlabel=\"time\", ylabel=\"C6H6 concentrations\")\n",
    "    diff = result[\"prediction\"].subtract(result[\"actual\"])\n",
    "    ax1 = diff.plot.line(ax = ax[1], colormap=\"Accent\")\n",
    "    ax1.set(xlabel=\"time\", ylabel=\"difference\")\n",
    "    plt.tight_layout()\n",
    "    plt.show()"
   ]
  },
  {
   "cell_type": "code",
   "execution_count": 6,
   "metadata": {},
   "outputs": [
    {
     "name": "stdout",
     "output_type": "stream",
     "text": [
      "Train on 5303 samples, validate on 1326 samples\n",
      "Epoch 1/20\n",
      "5303/5303 [==============================] - 1s 168us/sample - loss: 0.7588 - val_loss: 0.0256\n",
      "Epoch 2/20\n",
      "5303/5303 [==============================] - 1s 110us/sample - loss: 0.0171 - val_loss: 0.0141\n",
      "Epoch 3/20\n",
      "5303/5303 [==============================] - 1s 111us/sample - loss: 0.0110 - val_loss: 0.0102\n",
      "Epoch 4/20\n",
      "5303/5303 [==============================] - 1s 126us/sample - loss: 0.0083 - val_loss: 0.0081\n",
      "Epoch 5/20\n",
      "5303/5303 [==============================] - 1s 116us/sample - loss: 0.0066 - val_loss: 0.0069\n",
      "Epoch 6/20\n",
      "5303/5303 [==============================] - 1s 117us/sample - loss: 0.0054 - val_loss: 0.0054\n",
      "Epoch 7/20\n",
      "5303/5303 [==============================] - 1s 115us/sample - loss: 0.0045 - val_loss: 0.0045\n",
      "Epoch 8/20\n",
      "5303/5303 [==============================] - 1s 110us/sample - loss: 0.0037 - val_loss: 0.0046\n",
      "Epoch 9/20\n",
      "5303/5303 [==============================] - 1s 110us/sample - loss: 0.0031 - val_loss: 0.0031\n",
      "Epoch 10/20\n",
      "5303/5303 [==============================] - 1s 110us/sample - loss: 0.0025 - val_loss: 0.0025\n",
      "Epoch 11/20\n",
      "5303/5303 [==============================] - 1s 107us/sample - loss: 0.0021 - val_loss: 0.0021\n",
      "Epoch 12/20\n",
      "5303/5303 [==============================] - 1s 107us/sample - loss: 0.0016 - val_loss: 0.0016\n",
      "Epoch 13/20\n",
      "5303/5303 [==============================] - 1s 109us/sample - loss: 0.0014 - val_loss: 0.0013\n",
      "Epoch 14/20\n",
      "5303/5303 [==============================] - 1s 109us/sample - loss: 0.0011 - val_loss: 0.0011\n",
      "Epoch 15/20\n",
      "5303/5303 [==============================] - 1s 116us/sample - loss: 9.9817e-04 - val_loss: 0.0011\n",
      "Epoch 16/20\n",
      "5303/5303 [==============================] - 1s 107us/sample - loss: 8.4302e-04 - val_loss: 0.0013\n",
      "Epoch 17/20\n",
      "5303/5303 [==============================] - 1s 110us/sample - loss: 7.5018e-04 - val_loss: 8.8459e-04\n",
      "Epoch 18/20\n",
      "5303/5303 [==============================] - 1s 108us/sample - loss: 6.9808e-04 - val_loss: 6.9733e-04\n",
      "Epoch 19/20\n",
      "5303/5303 [==============================] - 1s 110us/sample - loss: 6.0950e-04 - val_loss: 5.9321e-04\n",
      "Epoch 20/20\n",
      "5303/5303 [==============================] - 1s 110us/sample - loss: 5.5982e-04 - val_loss: 6.6943e-04\n"
     ]
    },
    {
     "data": {
      "image/png": "[encoded data removed]",
      "text/plain": [
       "<Figure size 432x288 with 2 Axes>"
      ]
     },
     "metadata": {
      "needs_background": "light"
     },
     "output_type": "display_data"
    }
   ],
   "source": [
    "main()"
   ]
  }
 ],
 "metadata": {
  "kernelspec": {
   "display_name": "Python 3",
   "language": "python",
   "name": "python3"
  },
  "language_info": {
   "codemirror_mode": {
    "name": "ipython",
    "version": 3
   },
   "file_extension": ".py",
   "mimetype": "text/x-python",
   "name": "python",
   "nbconvert_exporter": "python",
   "pygments_lexer": "ipython3",
   "version": "3.7.6"
  }
 },
 "nbformat": 4,
 "nbformat_minor": 2
}
