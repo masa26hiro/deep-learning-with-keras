{
 "cells": [
  {
   "cell_type": "code",
   "execution_count": null,
   "metadata": {},
   "outputs": [],
   "source": [
    "import os\n",
    "import sys\n",
    "from urllib.request import urlretrieve\n",
    "from keras.preprocessing.image import load_img, img_to_array\n",
    "from keras import backend as K\n",
    "from keras.applications import vgg16\n",
    "import matplotlib.pyplot as plt\n",
    "import numpy as np"
   ]
  },
  {
   "cell_type": "code",
   "execution_count": null,
   "metadata": {},
   "outputs": [],
   "source": [
    "# 画像の前処理\n",
    "def preprocess_image(img_path):\n",
    "    img = load_img(img_path)\n",
    "    img = img_to_array(img)\n",
    "    img = np.expand_dims(img, axis=0)\n",
    "    img = vgg16.preprocess_input(img)\n",
    "    return img\n",
    "\n",
    "# 出力された行列を画像に戻す処理\n",
    "def deprocess_image(x, gradient=False):\n",
    "    img = x.copy()\n",
    "    # Util function to convert a tensor into a valid image.\n",
    "    img = img.reshape(x.shape[1], x.shape[2], x.shape[3])  # H, W, C\n",
    "    if gradient:\n",
    "        img = (img - img.mean()) * 255 / img.std()\n",
    "    else:\n",
    "        # Remove zero-center by mean pixel\n",
    "        img[:, :, 0] += 103.939\n",
    "        img[:, :, 1] += 116.779\n",
    "        img[:, :, 2] += 123.68\n",
    "\n",
    "    # 'BGR'->'RGB'\n",
    "    img = img[:, :, ::-1]\n",
    "    img = np.clip(img, 0, 255).astype(\"uint8\")\n",
    "    return img\n"
   ]
  },
  {
   "cell_type": "code",
   "execution_count": null,
   "metadata": {},
   "outputs": [],
   "source": [
    "def main(image_path, num_pool_layers=5, iter_count=3, learning_rate=10,\n",
    "         show_rand=False):\n",
    "    image = preprocess_image(image_path)\n",
    "    # 最後の全結合層を外したモデルを読み込む\n",
    "    # 全結合層を外すことで画像サイズの制約をなくす\n",
    "    model = vgg16.VGG16(weights=\"imagenet\", include_top=False)\n",
    "    # 各層を辞書型のオブジェクトに格納する\n",
    "    layer_dict = dict([(layer.name, layer) for layer in model.layers])\n",
    "    \n",
    "    # 指定されたプーリング層についてDeepDreamの作成を行う\n",
    "    fig = plt.figure(figsize=(17, 8))\n",
    "    dream = model.input\n",
    "    for i in range(num_pool_layers):\n",
    "        _image = image.copy()\n",
    "        rand_input = np.random.randint(\n",
    "                        100, 150, size=_image.shape, dtype=np.uint8)\n",
    "        layer_name = \"block{:d}_pool\".format(i + 1)\n",
    "        layer_output = layer_dict[layer_name].output\n",
    "        # 指定したプーリング層の出力を平均\n",
    "        loss = K.mean(layer_output)\n",
    "        #　平均値を最大化するための勾配を計算する\n",
    "        grads = K.gradients(loss, dream)[0]\n",
    "        grads /= K.maximum(K.mean(K.abs(grads)), 1e-5)  # normalize grad\n",
    "        converter = K.function([dream], [loss, grads])\n",
    "\n",
    "        grad_sum = None\n",
    "        for j in range(iter_count):\n",
    "            _loss_value, _grads_value = converter([_image])\n",
    "            _image += _grads_value * learning_rate  # gradient \"ascent\"\n",
    "            if show_rand: # show_rand=Trueの場合ランダムな入力を与えたときの勾配を元画像に適用させる\n",
    "                _, _grads_value = converter([rand_input])\n",
    "            if grad_sum is None:\n",
    "                grad_sum = _grads_value\n",
    "            else:\n",
    "                grad_sum += _grads_value\n",
    "        grad_mean = grad_sum / iter_count\n",
    "\n",
    "        ax = plt.subplot(2, num_pool_layers, i + 1)\n",
    "        ax.imshow(deprocess_image(_image))\n",
    "        ax.axis(\"off\")\n",
    "        ax.set_title(\"dream from {}\".format(layer_name))\n",
    "\n",
    "        ax = plt.subplot(2, num_pool_layers, num_pool_layers + i + 1)\n",
    "        ax.imshow(deprocess_image(grad_mean, gradient=True))\n",
    "        ax.axis(\"off\")\n",
    "        ax.set_title(\"{}'s gradient\".format(layer_name))\n",
    "\n",
    "    plt.tight_layout()\n",
    "    dir_name, file_name = os.path.split(image_path)\n",
    "    file_root, ext = os.path.splitext(file_name)\n",
    "    plt.savefig(os.path.join(dir_name, file_root + \"_deep_dream.png\"))\n",
    "    plt.show()"
   ]
  },
  {
   "cell_type": "code",
   "execution_count": null,
   "metadata": {},
   "outputs": [],
   "source": [
    "if __name__ == \"__main__\":\n",
    "    # cat image url\n",
    "    image_url = \"http://farm2.static.flickr.com/1200/525304657_c59f741aac.jpg\"\n",
    "    data_path = os.path.join(os.path.dirname(\"__file__\"), \"data/cat.jpg\")\n",
    "    urlretrieve(image_url, data_path)\n",
    "    main(data_path, show_rand=True)\n",
    "    #main(data_path)"
   ]
  },
  {
   "cell_type": "code",
   "execution_count": null,
   "metadata": {},
   "outputs": [],
   "source": []
  }
 ],
 "metadata": {
  "kernelspec": {
   "display_name": "Python 3",
   "language": "python",
   "name": "python3"
  },
  "language_info": {
   "codemirror_mode": {
    "name": "ipython",
    "version": 3
   },
   "file_extension": ".py",
   "mimetype": "text/x-python",
   "name": "python",
   "nbconvert_exporter": "python",
   "pygments_lexer": "ipython3",
   "version": "3.7.3"
  }
 },
 "nbformat": 4,
 "nbformat_minor": 2
}
