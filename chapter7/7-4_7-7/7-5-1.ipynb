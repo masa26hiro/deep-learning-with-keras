{
 "cells": [
  {
   "cell_type": "code",
   "execution_count": 1,
   "metadata": {},
   "outputs": [
    {
     "name": "stderr",
     "output_type": "stream",
     "text": [
      "Using TensorFlow backend.\n"
     ]
    },
    {
     "name": "stdout",
     "output_type": "stream",
     "text": [
      "Distance between\n",
      " [[5 4 0]\n",
      " [6 2 2]\n",
      " [5 7 7]\n",
      " [6 1 8]] \n",
      "and\n",
      " [[6 6 2]\n",
      " [2 2 7]\n",
      " [0 6 8]\n",
      " [6 4 7]] \n",
      "is\n",
      " [[3.       ]\n",
      " [6.4031243]\n",
      " [5.196152 ]\n",
      " [3.1622777]]\n"
     ]
    }
   ],
   "source": [
    "import numpy as np\n",
    "from keras import backend as K\n",
    "from keras.layers import Input, Lambda\n",
    "from keras.models import Model\n",
    "\n",
    "\n",
    "def euclidean_distance(vecs):\n",
    "    x, y = vecs\n",
    "    return K.sqrt(K.sum(K.square(x - y), axis=1, keepdims=True))\n",
    "\n",
    "\n",
    "def euclidean_distance_output_shape(input_shapes):\n",
    "    shape1, shape2 = input_shapes\n",
    "    assert shape1 == shape2  # shape have to be equal\n",
    "    return (shape1[0], 1)\n",
    "\n",
    "\n",
    "def measure_model(row_count=4, vec_size=3):\n",
    "    left = Input(shape=(vec_size,))\n",
    "    right = Input(shape=(vec_size,))\n",
    "\n",
    "    distance = Lambda(euclidean_distance,\n",
    "                      output_shape=euclidean_distance_output_shape\n",
    "                      )([left, right]) #入力のshapeと出力のshapeが異なるときは明示的にoutput_shapeを指定する必要がある\n",
    "    model = Model([left, right], distance)\n",
    "\n",
    "    size = row_count * vec_size\n",
    "    left_mx = np.random.randint(9, size=size).reshape((row_count, vec_size))\n",
    "    right_mx = np.random.randint(9, size=size).reshape((row_count, vec_size))\n",
    "\n",
    "    output = model.predict([left_mx, right_mx])\n",
    "    print(\"Distance between\\n {} \\nand\\n {} \\nis\\n {}\".format(\n",
    "        left_mx, right_mx, output\n",
    "    ))\n",
    "\n",
    "\n",
    "if __name__ == \"__main__\":\n",
    "    measure_model()"
   ]
  },
  {
   "cell_type": "code",
   "execution_count": null,
   "metadata": {},
   "outputs": [],
   "source": []
  }
 ],
 "metadata": {
  "kernelspec": {
   "display_name": "Python 3",
   "language": "python",
   "name": "python3"
  },
  "language_info": {
   "codemirror_mode": {
    "name": "ipython",
    "version": 3
   },
   "file_extension": ".py",
   "mimetype": "text/x-python",
   "name": "python",
   "nbconvert_exporter": "python",
   "pygments_lexer": "ipython3",
   "version": "3.7.3"
  }
 },
 "nbformat": 4,
 "nbformat_minor": 2
}
